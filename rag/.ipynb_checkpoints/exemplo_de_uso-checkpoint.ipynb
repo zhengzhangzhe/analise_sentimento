{
 "cells": [
  {
   "cell_type": "code",
   "execution_count": 1,
   "id": "c8a192ef-c1d1-4c33-866f-686ec0a62486",
   "metadata": {},
   "outputs": [
    {
     "name": "stderr",
     "output_type": "stream",
     "text": [
      "/Users/zzz/Downloads/anaconda3/envs/bancobv_entrevista/lib/python3.8/site-packages/sentence_transformers/cross_encoder/CrossEncoder.py:13: TqdmExperimentalWarning: Using `tqdm.autonotebook.tqdm` in notebook mode. Use `tqdm.tqdm` instead to force console mode (e.g. in jupyter console)\n",
      "  from tqdm.autonotebook import tqdm, trange\n",
      "2025-02-13 02:30:11.760711: I tensorflow/core/platform/cpu_feature_guard.cc:182] This TensorFlow binary is optimized to use available CPU instructions in performance-critical operations.\n",
      "To enable the following instructions: AVX2 FMA, in other operations, rebuild TensorFlow with the appropriate compiler flags.\n"
     ]
    }
   ],
   "source": [
    "import pandas as pd\n",
    "import numpy as np\n",
    "from ast import literal_eval\n",
    "import textwrap\n",
    "import json\n",
    "\n",
    "from openai import OpenAI\n",
    "\n",
    "from sentence_transformers import SentenceTransformer\n"
   ]
  },
  {
   "cell_type": "code",
   "execution_count": 2,
   "id": "37399847-47b8-4545-bdde-ac8ae020ce79",
   "metadata": {},
   "outputs": [],
   "source": [
    "model = SentenceTransformer(\"Alibaba-NLP/gte-base-en-v1.5\", trust_remote_code=True)\n",
    "# model = SentenceTransformer(\"sentence-transformers/all-MiniLM-L6-v2\", trust_remote_code=True)"
   ]
  },
  {
   "cell_type": "code",
   "execution_count": 3,
   "id": "c6e2cb83-d760-4451-9c6b-2e57b7cd7389",
   "metadata": {},
   "outputs": [],
   "source": [
    "# load embedding vetores\n",
    "docs_embed = np.load('embeddings_tweet_hist.npy')\n",
    "\n",
    "# load text\n",
    "with open(\"paragraphs.txt\",\"r\") as f:\n",
    "    paragraphs = f.read()\n",
    "paragraphs = literal_eval(paragraphs)"
   ]
  },
  {
   "cell_type": "code",
   "execution_count": 4,
   "id": "cfe14d9f-e9b4-4654-b88d-d1624f46db6f",
   "metadata": {
    "scrolled": true
   },
   "outputs": [
    {
     "data": {
      "text/plain": [
       "[\"{\\n   'id':'595f9451745dc32c7a70a7d0',\\n   'text of tweet':'@airfrance just messaged there. looking forward to resolving this issue.',\\n   'idioma of tweet':'en',\\n   'sentiment of tweet':'positivo'\\n   },\",\n",
       " \"{\\n   'id':'59637ca94fe31f4f52a02233',\\n   'text of tweet':'@airfrance i wrote to your claim page on https://t.co/m9wsp5bccl concerning school children stuck in iad need help! 4433018048',\\n   'idioma of tweet':'en',\\n   'sentiment of tweet':'neutro'\\n   },\",\n",
       " \"{\\n   'id':'595e849b0394302c0c63b3d8',\\n   'text of tweet':'@monstercymru @airfrance @bmibaby_com @bristolairport @airfrance need to find it asap!',\\n   'idioma of tweet':'en',\\n   'sentiment of tweet':'neutro'\\n   },\",\n",
       " \"{\\n   'id':'595f7363745dc32c7a70a774',\\n   'text of tweet':'but really. why is there no air. is that a surcharge now too? @airfrance',\\n   'idioma of tweet':'en',\\n   'sentiment of tweet':'negativo'\\n   },\",\n",
       " \"{\\n   'id':'5964000d4fe31f4f52a0238c',\\n   'text of tweet':'@breaking911 @airwaysmagazine @koreanair @mas @klm @airfrance @samsungnewsroom breaking: d.c. air route traffic conâ€¦ https://t.co/vniz78n8yv',\\n   'idioma of tweet':'en',\\n   'sentiment of tweet':'neutro'\\n   },\",\n",
       " \"{\\n   'id':'595e9354745dc32c7a70a5a0',\\n   'text of tweet':'#airfrance = #airchance i am not taking any chances. this was my last flight with #airfrance',\\n   'idioma of tweet':'en',\\n   'sentiment of tweet':'negativo'\\n   },\",\n",
       " \"{\\n   'id':'59620817beec944b5ec2d45d',\\n   'text of tweet':'@airfrance claim to have 24/7 available support but takes them days to respond if they respond at all.',\\n   'idioma of tweet':'en',\\n   'sentiment of tweet':'negativo'\\n   },\",\n",
       " \"{\\n   'id':'5960c131745dc32c7a70aa39',\\n   'text of tweet':'@mahddogg @airfrance when i get some ) so far iâ€™ve scored a vanity bag.',\\n   'idioma of tweet':'en',\\n   'sentiment of tweet':'neutro'\\n   },\",\n",
       " \"{\\n   'id':'595e70568fcd022a715f7bd8',\\n   'text of tweet':'@airfrance are cpap machines allowed onboard?',\\n   'idioma of tweet':'en',\\n   'sentiment of tweet':'neutro'\\n   },\",\n",
       " \"{\\n   'id':'595f42fa745dc32c7a70a6d2',\\n   'text of tweet':'@airfrance i'm having trouble logging in even w pin. email is brendanrlowe@gmail.com. need to confirm infant is on res from cdg to nice',\\n   'idioma of tweet':'en',\\n   'sentiment of tweet':'neutro'\\n   },\",\n",
       " \"{\\n   'id':'59641db04fe31f4f52a023ac',\\n   'text of tweet':'.@airfrance adopts sitaonair's new e-aircraftÂ® datacapture to tackle the connected aircraft data challenge.â€¦ https://t.co/slpmoktwxe',\\n   'idioma of tweet':'en',\\n   'sentiment of tweet':'neutro'\\n   },\",\n",
       " \"{\\n   'id':'59626b3c4fe31f4f52a01f5f',\\n   'text of tweet':'@airfrance this was paid for on 3 march 2017 and your system is not identifying it.',\\n   'idioma of tweet':'en',\\n   'sentiment of tweet':'neutro'\\n   },\",\n",
       " \"{\\n   'id':'595f98dd745dc32c7a70a7e0',\\n   'text of tweet':'all anyone seems to be able to do is to send emails - who knows if they actually get read @airfrance @airberlinassist.',\\n   'idioma of tweet':'en',\\n   'sentiment of tweet':'negativo'\\n   },\",\n",
       " \"{\\n   'id':'595e8b94745dc32c7a70a591',\\n   'text of tweet':'@airfrance @klm is sorting it out now',\\n   'idioma of tweet':'en',\\n   'sentiment of tweet':'neutro'\\n   },\",\n",
       " \"{\\n   'id':'595eb39a745dc32c7a70a5e7',\\n   'text of tweet':'@airfrance very frustrating that this is the only way to contact you. your website has wrong numbers and you don't provide an email.... :(',\\n   'idioma of tweet':'en',\\n   'sentiment of tweet':'negativo'\\n   },\",\n",
       " \"{\\n   'id':'59654edd4fe31f4f52a02633',\\n   'text of tweet':'@airfrance pls take the babbage tag number that is not mine off my claim #poorcustomerservice',\\n   'idioma of tweet':'en',\\n   'sentiment of tweet':'neutro'\\n   },\",\n",
       " \"{\\n   'id':'595f2752745dc32c7a70a682',\\n   'text of tweet':'@airfrance please can you respond to my dm',\\n   'idioma of tweet':'en',\\n   'sentiment of tweet':'neutro'\\n   },\",\n",
       " \"{\\n   'id':'595e8b76745dc32c7a70a58f',\\n   'text of tweet':'@natasha4mp @maceoparker @airfrance see you in whatsapp. i am not familiar with twittering. i have a nbr maybe.',\\n   'idioma of tweet':'en',\\n   'sentiment of tweet':'neutro'\\n   },\",\n",
       " \"{\\n   'id':'595f8292745dc32c7a70a7a2',\\n   'text of tweet':'@airfrance check in took 25 mins. it took so long because the agent was on the phone, with support, learning how to check someone in #rookie',\\n   'idioma of tweet':'en',\\n   'sentiment of tweet':'negativo'\\n   },\",\n",
       " \"{\\n   'id':'59603446745dc32c7a70a93d',\\n   'text of tweet':'@aprilhathcock @airfrance i am terribly sorry to hear that. for any compensation requests, kindly contact our customer relations department:',\\n   'idioma of tweet':'en',\\n   'sentiment of tweet':'neutro'\\n   },\"]"
      ]
     },
     "execution_count": 4,
     "metadata": {},
     "output_type": "execute_result"
    }
   ],
   "source": [
    "query = \"what is the question of id 595e9354745dc32c7a70a5a0\"\n",
    "query_embed = model.encode(query, normalize_embeddings=True)\n",
    "\n",
    "similarities = np.dot(docs_embed, query_embed.T)  # calcula similaridade\n",
    "\n",
    "top_20_idx = np.argsort(similarities, axis=0)[-20:][::-1].tolist()  # os 20 mais parecidas\n",
    "most_similar_documents = [paragraphs[idx] for idx in top_20_idx]\n",
    "most_similar_documents"
   ]
  },
  {
   "cell_type": "code",
   "execution_count": 8,
   "id": "9de35963-c74b-4dd6-a8e3-2b300527a11d",
   "metadata": {
    "scrolled": true
   },
   "outputs": [
    {
     "name": "stdout",
     "output_type": "stream",
     "text": [
      "-----------------------------------------------------------------\n",
      "{    'id':'595f9451745dc32c7a70a7d0',    'text of tweet':'@airfrance just messaged there. looking\n",
      "forward to resolving this issue.',    'idioma of tweet':'en',    'sentiment of tweet':'positivo'\n",
      "},\n",
      "-----------------------------------------------------------------\n",
      "-----------------------------------------------------------------\n",
      "{    'id':'59637ca94fe31f4f52a02233',    'text of tweet':'@airfrance i wrote to your claim page on\n",
      "https://t.co/m9wsp5bccl concerning school children stuck in iad need help! 4433018048',    'idioma\n",
      "of tweet':'en',    'sentiment of tweet':'neutro'    },\n",
      "-----------------------------------------------------------------\n",
      "-----------------------------------------------------------------\n",
      "{    'id':'595e849b0394302c0c63b3d8',    'text of tweet':'@monstercymru @airfrance @bmibaby_com\n",
      "@bristolairport @airfrance need to find it asap!',    'idioma of tweet':'en',    'sentiment of\n",
      "tweet':'neutro'    },\n",
      "-----------------------------------------------------------------\n",
      "-----------------------------------------------------------------\n",
      "{    'id':'595f7363745dc32c7a70a774',    'text of tweet':'but really. why is there no air. is that a\n",
      "surcharge now too? @airfrance',    'idioma of tweet':'en',    'sentiment of tweet':'negativo'    },\n",
      "-----------------------------------------------------------------\n",
      "-----------------------------------------------------------------\n",
      "{    'id':'5964000d4fe31f4f52a0238c',    'text of tweet':'@breaking911 @airwaysmagazine @koreanair\n",
      "@mas @klm @airfrance @samsungnewsroom breaking: d.c. air route traffic conâ€¦\n",
      "https://t.co/vniz78n8yv',    'idioma of tweet':'en',    'sentiment of tweet':'neutro'    },\n",
      "-----------------------------------------------------------------\n",
      "-----------------------------------------------------------------\n",
      "{    'id':'595e9354745dc32c7a70a5a0',    'text of tweet':'#airfrance = #airchance i am not taking\n",
      "any chances. this was my last flight with #airfrance',    'idioma of tweet':'en',    'sentiment of\n",
      "tweet':'negativo'    },\n",
      "-----------------------------------------------------------------\n",
      "-----------------------------------------------------------------\n",
      "{    'id':'59620817beec944b5ec2d45d',    'text of tweet':'@airfrance claim to have 24/7 available\n",
      "support but takes them days to respond if they respond at all.',    'idioma of tweet':'en',\n",
      "'sentiment of tweet':'negativo'    },\n",
      "-----------------------------------------------------------------\n",
      "-----------------------------------------------------------------\n",
      "{    'id':'5960c131745dc32c7a70aa39',    'text of tweet':'@mahddogg @airfrance when i get some ) so\n",
      "far iâ€™ve scored a vanity bag.',    'idioma of tweet':'en',    'sentiment of tweet':'neutro'    },\n",
      "-----------------------------------------------------------------\n",
      "-----------------------------------------------------------------\n",
      "{    'id':'595e70568fcd022a715f7bd8',    'text of tweet':'@airfrance are cpap machines allowed\n",
      "onboard?',    'idioma of tweet':'en',    'sentiment of tweet':'neutro'    },\n",
      "-----------------------------------------------------------------\n",
      "-----------------------------------------------------------------\n",
      "{    'id':'595f42fa745dc32c7a70a6d2',    'text of tweet':'@airfrance i'm having trouble logging in\n",
      "even w pin. email is brendanrlowe@gmail.com. need to confirm infant is on res from cdg to nice',\n",
      "'idioma of tweet':'en',    'sentiment of tweet':'neutro'    },\n",
      "-----------------------------------------------------------------\n",
      "-----------------------------------------------------------------\n",
      "{    'id':'59641db04fe31f4f52a023ac',    'text of tweet':'.@airfrance adopts sitaonair's new\n",
      "e-aircraftÂ® datacapture to tackle the connected aircraft data challenge.â€¦\n",
      "https://t.co/slpmoktwxe',    'idioma of tweet':'en',    'sentiment of tweet':'neutro'    },\n",
      "-----------------------------------------------------------------\n",
      "-----------------------------------------------------------------\n",
      "{    'id':'59626b3c4fe31f4f52a01f5f',    'text of tweet':'@airfrance this was paid for on 3 march\n",
      "2017 and your system is not identifying it.',    'idioma of tweet':'en',    'sentiment of\n",
      "tweet':'neutro'    },\n",
      "-----------------------------------------------------------------\n",
      "-----------------------------------------------------------------\n",
      "{    'id':'595f98dd745dc32c7a70a7e0',    'text of tweet':'all anyone seems to be able to do is to\n",
      "send emails - who knows if they actually get read @airfrance @airberlinassist.',    'idioma of\n",
      "tweet':'en',    'sentiment of tweet':'negativo'    },\n",
      "-----------------------------------------------------------------\n",
      "-----------------------------------------------------------------\n",
      "{    'id':'595e8b94745dc32c7a70a591',    'text of tweet':'@airfrance @klm is sorting it out now',\n",
      "'idioma of tweet':'en',    'sentiment of tweet':'neutro'    },\n",
      "-----------------------------------------------------------------\n",
      "-----------------------------------------------------------------\n",
      "{    'id':'595eb39a745dc32c7a70a5e7',    'text of tweet':'@airfrance very frustrating that this is\n",
      "the only way to contact you. your website has wrong numbers and you don't provide an email.... :(',\n",
      "'idioma of tweet':'en',    'sentiment of tweet':'negativo'    },\n",
      "-----------------------------------------------------------------\n",
      "-----------------------------------------------------------------\n",
      "{    'id':'59654edd4fe31f4f52a02633',    'text of tweet':'@airfrance pls take the babbage tag number\n",
      "that is not mine off my claim #poorcustomerservice',    'idioma of tweet':'en',    'sentiment of\n",
      "tweet':'neutro'    },\n",
      "-----------------------------------------------------------------\n",
      "-----------------------------------------------------------------\n",
      "{    'id':'595f2752745dc32c7a70a682',    'text of tweet':'@airfrance please can you respond to my\n",
      "dm',    'idioma of tweet':'en',    'sentiment of tweet':'neutro'    },\n",
      "-----------------------------------------------------------------\n",
      "-----------------------------------------------------------------\n",
      "{    'id':'595e8b76745dc32c7a70a58f',    'text of tweet':'@natasha4mp @maceoparker @airfrance see\n",
      "you in whatsapp. i am not familiar with twittering. i have a nbr maybe.',    'idioma of tweet':'en',\n",
      "'sentiment of tweet':'neutro'    },\n",
      "-----------------------------------------------------------------\n",
      "-----------------------------------------------------------------\n",
      "{    'id':'595f8292745dc32c7a70a7a2',    'text of tweet':'@airfrance check in took 25 mins. it took\n",
      "so long because the agent was on the phone, with support, learning how to check someone in #rookie',\n",
      "'idioma of tweet':'en',    'sentiment of tweet':'negativo'    },\n",
      "-----------------------------------------------------------------\n",
      "-----------------------------------------------------------------\n",
      "{    'id':'59603446745dc32c7a70a93d',    'text of tweet':'@aprilhathcock @airfrance i am terribly\n",
      "sorry to hear that. for any compensation requests, kindly contact our customer relations\n",
      "department:',    'idioma of tweet':'en',    'sentiment of tweet':'neutro'    },\n",
      "-----------------------------------------------------------------\n"
     ]
    },
    {
     "data": {
      "text/plain": [
       "\"\\n[Role] You are an airline customer service expert assistant\\n[Task] Generate a <50-word response based on context:\\nRules:\\nNo unverified information\\nUse concise friendly tone\\nSummarize customer's core issue\\nClassify issues as Complaint/Inquiry/Commendation/Other\\n\\nUse the following CONTEXT to answer the QUESTION at the end.\\nThe user will provide some exam text. Please parse the output them in JSON format. \\nIf you don't know the answer, just say that you don't know, don't try to make up an answer.\\n\\nCONTEXT: {    'id':'595f9451745dc32c7a70a7d0',    'text of tweet':'@airfrance just messaged there. looking\\nforward to resolving this issue.',    'idioma of tweet':'en',    'sentiment of tweet':'positivo'\\n},\\n\\n{    'id':'59637ca94fe31f4f52a02233',    'text of tweet':'@airfrance i wrote to your claim page on\\nhttps://t.co/m9wsp5bccl concerning school children stuck in iad need help! 4433018048',    'idioma\\nof tweet':'en',    'sentiment of tweet':'neutro'    },\\n\\n{    'id':'595e849b0394302c0c63b3d8',    'text of tweet':'@monstercymru @airfrance @bmibaby_com\\n@bristolairport @airfrance need to find it asap!',    'idioma of tweet':'en',    'sentiment of\\ntweet':'neutro'    },\\n\\n{    'id':'595f7363745dc32c7a70a774',    'text of tweet':'but really. why is there no air. is that a\\nsurcharge now too? @airfrance',    'idioma of tweet':'en',    'sentiment of tweet':'negativo'    },\\n\\n{    'id':'5964000d4fe31f4f52a0238c',    'text of tweet':'@breaking911 @airwaysmagazine @koreanair\\n@mas @klm @airfrance @samsungnewsroom breaking: d.c. air route traffic conâ€¦\\nhttps://t.co/vniz78n8yv',    'idioma of tweet':'en',    'sentiment of tweet':'neutro'    },\\n\\n{    'id':'595e9354745dc32c7a70a5a0',    'text of tweet':'#airfrance = #airchance i am not taking\\nany chances. this was my last flight with #airfrance',    'idioma of tweet':'en',    'sentiment of\\ntweet':'negativo'    },\\n\\n{    'id':'59620817beec944b5ec2d45d',    'text of tweet':'@airfrance claim to have 24/7 available\\nsupport but takes them days to respond if they respond at all.',    'idioma of tweet':'en',\\n'sentiment of tweet':'negativo'    },\\n\\n{    'id':'5960c131745dc32c7a70aa39',    'text of tweet':'@mahddogg @airfrance when i get some ) so\\nfar iâ€™ve scored a vanity bag.',    'idioma of tweet':'en',    'sentiment of tweet':'neutro'    },\\n\\n{    'id':'595e70568fcd022a715f7bd8',    'text of tweet':'@airfrance are cpap machines allowed\\nonboard?',    'idioma of tweet':'en',    'sentiment of tweet':'neutro'    },\\n\\n{    'id':'595f42fa745dc32c7a70a6d2',    'text of tweet':'@airfrance i'm having trouble logging in\\neven w pin. email is brendanrlowe@gmail.com. need to confirm infant is on res from cdg to nice',\\n'idioma of tweet':'en',    'sentiment of tweet':'neutro'    },\\n\\n{    'id':'59641db04fe31f4f52a023ac',    'text of tweet':'.@airfrance adopts sitaonair's new\\ne-aircraftÂ® datacapture to tackle the connected aircraft data challenge.â€¦\\nhttps://t.co/slpmoktwxe',    'idioma of tweet':'en',    'sentiment of tweet':'neutro'    },\\n\\n{    'id':'59626b3c4fe31f4f52a01f5f',    'text of tweet':'@airfrance this was paid for on 3 march\\n2017 and your system is not identifying it.',    'idioma of tweet':'en',    'sentiment of\\ntweet':'neutro'    },\\n\\n{    'id':'595f98dd745dc32c7a70a7e0',    'text of tweet':'all anyone seems to be able to do is to\\nsend emails - who knows if they actually get read @airfrance @airberlinassist.',    'idioma of\\ntweet':'en',    'sentiment of tweet':'negativo'    },\\n\\n{    'id':'595e8b94745dc32c7a70a591',    'text of tweet':'@airfrance @klm is sorting it out now',\\n'idioma of tweet':'en',    'sentiment of tweet':'neutro'    },\\n\\n{    'id':'595eb39a745dc32c7a70a5e7',    'text of tweet':'@airfrance very frustrating that this is\\nthe only way to contact you. your website has wrong numbers and you don't provide an email.... :(',\\n'idioma of tweet':'en',    'sentiment of tweet':'negativo'    },\\n\\n{    'id':'59654edd4fe31f4f52a02633',    'text of tweet':'@airfrance pls take the babbage tag number\\nthat is not mine off my claim #poorcustomerservice',    'idioma of tweet':'en',    'sentiment of\\ntweet':'neutro'    },\\n\\n{    'id':'595f2752745dc32c7a70a682',    'text of tweet':'@airfrance please can you respond to my\\ndm',    'idioma of tweet':'en',    'sentiment of tweet':'neutro'    },\\n\\n{    'id':'595e8b76745dc32c7a70a58f',    'text of tweet':'@natasha4mp @maceoparker @airfrance see\\nyou in whatsapp. i am not familiar with twittering. i have a nbr maybe.',    'idioma of tweet':'en',\\n'sentiment of tweet':'neutro'    },\\n\\n{    'id':'595f8292745dc32c7a70a7a2',    'text of tweet':'@airfrance check in took 25 mins. it took\\nso long because the agent was on the phone, with support, learning how to check someone in #rookie',\\n'idioma of tweet':'en',    'sentiment of tweet':'negativo'    },\\n\\n{    'id':'59603446745dc32c7a70a93d',    'text of tweet':'@aprilhathcock @airfrance i am terribly\\nsorry to hear that. for any compensation requests, kindly contact our customer relations\\ndepartment:',    'idioma of tweet':'en',    'sentiment of tweet':'neutro'    },\\n\\n\\nQUESTION: what is the question of id 595e9354745dc32c7a70a5a0\\n\""
      ]
     },
     "execution_count": 8,
     "metadata": {},
     "output_type": "execute_result"
    }
   ],
   "source": [
    "CONTEXT = \"\"\n",
    "for i, p in enumerate(most_similar_documents):\n",
    "    wrapped_text = textwrap.fill(p, width=100)\n",
    "    print(\"-----------------------------------------------------------------\")\n",
    "    print(wrapped_text)\n",
    "    print(\"-----------------------------------------------------------------\")\n",
    "    CONTEXT += wrapped_text + \"\\n\\n\"\n",
    "\n",
    "prompt = f\"\"\"\n",
    "[Role] You are an airline customer service expert assistant\n",
    "[Task] Generate a <50-word response based on context:\n",
    "Rules:\n",
    "No unverified information\n",
    "Use concise friendly tone\n",
    "Summarize customer's core issue\n",
    "Classify issues as Complaint/Inquiry/Commendation/Other\n",
    "\n",
    "Use the following CONTEXT to answer the QUESTION at the end.\n",
    "The user will provide some exam text. Please parse the output them in JSON format. \n",
    "If you don't know the answer, just say that you don't know, don't try to make up an answer.\n",
    "\n",
    "CONTEXT: {CONTEXT}\n",
    "QUESTION: {query}\n",
    "\"\"\"\n",
    "prompt"
   ]
  },
  {
   "cell_type": "code",
   "execution_count": 9,
   "id": "4ff7b144-dca8-4cf7-8184-ae18f36fba74",
   "metadata": {},
   "outputs": [],
   "source": [
    "client = OpenAI(\n",
    "    api_key=\"sk-6712278ed4334e94b35b02afb37a50c2\",\n",
    "    base_url=\"https://api.deepseek.com\",\n",
    ")"
   ]
  },
  {
   "cell_type": "code",
   "execution_count": 10,
   "id": "b1c8595b-0eaf-4477-bb75-4e5238d9a07d",
   "metadata": {},
   "outputs": [
    {
     "name": "stdout",
     "output_type": "stream",
     "text": [
      "{'id': '595e9354745dc32c7a70a5a0', 'question': 'The user is expressing dissatisfaction with Air France, stating it was their last flight with the airline, indicating a complaint about their experience.', 'issue_type': 'Complaint'}\n"
     ]
    }
   ],
   "source": [
    "messages = [{\"role\": \"user\", \"content\": prompt}]\n",
    "response = client.chat.completions.create(\n",
    "    model=\"deepseek-chat\",\n",
    "    messages=messages,\n",
    "    response_format={\n",
    "        'type': 'json_object'\n",
    "    }\n",
    ")\n",
    "print(json.loads(response.choices[0].message.content))"
   ]
  },
  {
   "cell_type": "code",
   "execution_count": null,
   "id": "b19338a3-7f90-4139-8b0e-e4bcd17f62cb",
   "metadata": {},
   "outputs": [],
   "source": []
  },
  {
   "cell_type": "code",
   "execution_count": null,
   "id": "cc3df79f-796e-4804-b4f6-f31b9c34b801",
   "metadata": {},
   "outputs": [],
   "source": []
  },
  {
   "cell_type": "code",
   "execution_count": null,
   "id": "662d062a-2c41-4745-9e53-8e5f0d104589",
   "metadata": {},
   "outputs": [],
   "source": []
  },
  {
   "cell_type": "code",
   "execution_count": null,
   "id": "c21469c6-536a-476f-a933-a892761ff061",
   "metadata": {},
   "outputs": [],
   "source": []
  },
  {
   "cell_type": "code",
   "execution_count": null,
   "id": "28946f68-bbf3-4479-abe4-fa648d3ace7b",
   "metadata": {},
   "outputs": [],
   "source": []
  },
  {
   "cell_type": "code",
   "execution_count": null,
   "id": "a28f8af2-e279-48aa-8767-6d10c390fdad",
   "metadata": {},
   "outputs": [],
   "source": []
  },
  {
   "cell_type": "code",
   "execution_count": null,
   "id": "5469fbbe-7a54-450c-9ebb-129a90dca1b5",
   "metadata": {},
   "outputs": [],
   "source": []
  }
 ],
 "metadata": {
  "kernelspec": {
   "display_name": "Python 3 (ipykernel)",
   "language": "python",
   "name": "python3"
  },
  "language_info": {
   "codemirror_mode": {
    "name": "ipython",
    "version": 3
   },
   "file_extension": ".py",
   "mimetype": "text/x-python",
   "name": "python",
   "nbconvert_exporter": "python",
   "pygments_lexer": "ipython3",
   "version": "3.8.20"
  }
 },
 "nbformat": 4,
 "nbformat_minor": 5
}
