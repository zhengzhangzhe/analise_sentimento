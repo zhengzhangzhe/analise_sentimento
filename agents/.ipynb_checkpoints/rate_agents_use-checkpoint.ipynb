{
 "cells": [
  {
   "cell_type": "code",
   "execution_count": 1,
   "id": "988d769c-0fa1-446a-9216-9587422dab6b",
   "metadata": {},
   "outputs": [],
   "source": [
    "from rate_agents import fact_checking_agent,consis_check_agent,response_qual_rate_agent\n",
    "from ds_connect import ds_connect"
   ]
  },
  {
   "cell_type": "code",
   "execution_count": 4,
   "id": "eee67c80-45e6-4181-b0ab-1ff3153a285d",
   "metadata": {},
   "outputs": [],
   "source": [
    "client = ds_connect()"
   ]
  },
  {
   "cell_type": "code",
   "execution_count": 2,
   "id": "b0322620-272d-4846-aead-56e88e9b5a8b",
   "metadata": {},
   "outputs": [],
   "source": [
    "tweet = \"@united No. Denver said they don't handle baggage that made it to Colo. Springs.  They gave me an 800 number to call. No help there either.\"\n",
    "llm_resp = '''\n",
    "{'response': {'key_themes': ['Baggage Handling', 'Customer Service'],\n",
    "  'key_information': {'issue': 'Baggage handling dispute between Denver and Colorado Springs',\n",
    "   'contact_attempts': 'Called an 800 number provided by Denver',\n",
    "   'resolved': 'No'},\n",
    "  'user_sentiment': 'Negative'},\n",
    " 'if_need_assist': 1,\n",
    " 'resolved': 0\n",
    "}\n",
    "'''\n",
    "input_ = f'''\n",
    "tweet:{tweet}\n",
    "llm reponse:{llm_resp}\n",
    "'''"
   ]
  },
  {
   "cell_type": "code",
   "execution_count": null,
   "id": "5325bfeb-4b5f-4fa3-96bb-6d86ad2cc536",
   "metadata": {},
   "outputs": [],
   "source": []
  },
  {
   "cell_type": "code",
   "execution_count": 5,
   "id": "40db3d38-d1c8-416b-85e6-86161fa32fda",
   "metadata": {},
   "outputs": [],
   "source": [
    "output = fact_checking_agent(client,input_)"
   ]
  },
  {
   "cell_type": "code",
   "execution_count": 6,
   "id": "1087b22f-a7c9-4e7a-a41c-a38730409cb8",
   "metadata": {},
   "outputs": [
    {
     "data": {
      "text/plain": [
       "{'fact_checking_rate': 4,\n",
       " 'reason': \"The LLM's response accurately captures the key themes of 'Baggage Handling' and 'Customer Service' from the user's tweet. It correctly identifies the issue as a 'Baggage handling dispute between Denver and Colorado Springs' and notes the user's attempt to resolve the issue by calling an 800 number provided by Denver, which aligns with the user's statement. However, the LLM's response does not explicitly mention the user's sentiment of frustration or dissatisfaction, which is implied in the tweet. The response is mostly accurate but omits a direct reference to the user's negative sentiment, hence the minor deduction.\",\n",
       " 'tweet': \"@united No. Denver said they don't handle baggage that made it to Colo. Springs.  They gave me an 800 number to call. No help there either.\",\n",
       " 'llm_response': \"\\n{'response': {'key_themes': ['Baggage Handling', 'Customer Service'],\\n  'key_information': {'issue': 'Baggage handling dispute between Denver and Colorado Springs',\\n   'contact_attempts': 'Called an 800 number provided by Denver',\\n   'resolved': 'No'},\\n  'user_sentiment': 'Negative'},\\n 'if_need_assist': 1,\\n 'resolved': 0\\n}\\n\"}"
      ]
     },
     "execution_count": 6,
     "metadata": {},
     "output_type": "execute_result"
    }
   ],
   "source": [
    "output['tweet'] = tweet\n",
    "output['llm_response'] = llm_resp\n",
    "output"
   ]
  },
  {
   "cell_type": "code",
   "execution_count": null,
   "id": "7f84429b-df6e-42f0-bbf1-810d1233beae",
   "metadata": {},
   "outputs": [],
   "source": []
  },
  {
   "cell_type": "code",
   "execution_count": 7,
   "id": "e0ff8d59-89a7-48b2-b010-697f4849eec2",
   "metadata": {},
   "outputs": [],
   "source": [
    "output = consis_check_agent(client,input_)"
   ]
  },
  {
   "cell_type": "code",
   "execution_count": 8,
   "id": "00b7d58f-4a3c-4796-9d5f-5c50775fd9c7",
   "metadata": {},
   "outputs": [
    {
     "data": {
      "text/plain": [
       "{'consistency_check_rate': 4,\n",
       " 'reason': \"The LLM's response captures the key themes and information from the user's tweet, including the issue of baggage handling, the attempt to contact via an 800 number, and the unresolved nature of the issue. However, it introduces minor extraneous details such as 'Customer Service' as a key theme and categorizes user sentiment, which were not explicitly mentioned in the input. The core content matches the user's input, but the addition of unsolicited details slightly deviates from strict alignment.\",\n",
       " 'tweet': \"@united No. Denver said they don't handle baggage that made it to Colo. Springs.  They gave me an 800 number to call. No help there either.\",\n",
       " 'llm_response': \"\\n{'response': {'key_themes': ['Baggage Handling', 'Customer Service'],\\n  'key_information': {'issue': 'Baggage handling dispute between Denver and Colorado Springs',\\n   'contact_attempts': 'Called an 800 number provided by Denver',\\n   'resolved': 'No'},\\n  'user_sentiment': 'Negative'},\\n 'if_need_assist': 1,\\n 'resolved': 0\\n}\\n\"}"
      ]
     },
     "execution_count": 8,
     "metadata": {},
     "output_type": "execute_result"
    }
   ],
   "source": [
    "output['tweet'] = tweet\n",
    "output['llm_response'] = llm_resp\n",
    "output"
   ]
  },
  {
   "cell_type": "code",
   "execution_count": null,
   "id": "f82fab44-420f-48a6-9322-c686c7a34c12",
   "metadata": {},
   "outputs": [],
   "source": []
  },
  {
   "cell_type": "code",
   "execution_count": 9,
   "id": "dba3d65e-0504-4afe-9783-e1d37b847a6a",
   "metadata": {},
   "outputs": [],
   "source": [
    "customer_question = \"Hi there, I just arrived on flight AA123 to NYC but my checked luggage hasn’t shown up at carousel 5 – it’s a black hardcase with rainbow stripes and a green ribbon. Could you help check if it might’ve been routed differently? Really hoping to track it down before leaving the airport. Thanks so much!\"\n",
    "llm_response = \"I'm sorry to hear about your luggage issue. Please report this to the baggage service office at the airport immediately. They will assist you in locating your luggage. Provide them with your flight details and luggage description for faster resolution.\"\n",
    "input_ = f'''\n",
    "customer question:{customer_question}\n",
    "llm response:{llm_response}\n",
    "'''"
   ]
  },
  {
   "cell_type": "code",
   "execution_count": 10,
   "id": "2dbbfc2e-688c-4777-841c-ceab67ff6533",
   "metadata": {},
   "outputs": [],
   "source": [
    "output = response_qual_rate_agent(client,input_)"
   ]
  },
  {
   "cell_type": "code",
   "execution_count": 11,
   "id": "532d1751-3647-4f9d-a57f-55fdcbef1038",
   "metadata": {},
   "outputs": [
    {
     "data": {
      "text/plain": [
       "{'response_quality_rate': 7,\n",
       " 'reason': \"The response adequately addresses the customer's immediate need by directing them to the correct department for assistance. It includes a clear instruction to report the issue to the baggage service office and mentions providing flight details and luggage description for faster resolution. However, it lacks a more personalized touch or empathy expression, and does not offer any immediate solution or reassurance beyond the standard procedure. The response could be improved by expressing more empathy towards the customer's situation and possibly providing more specific guidance or reassurance about the process.\",\n",
       " 'customer_question': 'Hi there, I just arrived on flight AA123 to NYC but my checked luggage hasn’t shown up at carousel 5 – it’s a black hardcase with rainbow stripes and a green ribbon. Could you help check if it might’ve been routed differently? Really hoping to track it down before leaving the airport. Thanks so much!',\n",
       " 'llm_response': \"I'm sorry to hear about your luggage issue. Please report this to the baggage service office at the airport immediately. They will assist you in locating your luggage. Provide them with your flight details and luggage description for faster resolution.\"}"
      ]
     },
     "execution_count": 11,
     "metadata": {},
     "output_type": "execute_result"
    }
   ],
   "source": [
    "output['customer_question'] = customer_question\n",
    "output['llm_response'] = llm_response\n",
    "output"
   ]
  },
  {
   "cell_type": "code",
   "execution_count": null,
   "id": "fbcc2dd9-e274-4283-a753-09d1661118be",
   "metadata": {},
   "outputs": [],
   "source": []
  },
  {
   "cell_type": "code",
   "execution_count": null,
   "id": "e2e0138f-d1c1-46ba-a2ff-f5c8b17d1348",
   "metadata": {},
   "outputs": [],
   "source": []
  }
 ],
 "metadata": {
  "kernelspec": {
   "display_name": "Python 3 (ipykernel)",
   "language": "python",
   "name": "python3"
  },
  "language_info": {
   "codemirror_mode": {
    "name": "ipython",
    "version": 3
   },
   "file_extension": ".py",
   "mimetype": "text/x-python",
   "name": "python",
   "nbconvert_exporter": "python",
   "pygments_lexer": "ipython3",
   "version": "3.8.20"
  }
 },
 "nbformat": 4,
 "nbformat_minor": 5
}
