{
 "cells": [
  {
   "cell_type": "code",
   "execution_count": 1,
   "id": "2bcd5e91-db49-4fee-8f97-5bef95fab17d",
   "metadata": {},
   "outputs": [],
   "source": [
    "import json\n",
    "import sys\n",
    "import os\n",
    "\n",
    "from ds_connect import ds_connect\n",
    "from flux_agents import class_text_agent,qa_agent_round1,qa_agent_roundn,cole_data_agent,atend_f_response_agent,atend_retrieval_agent,atend_fact_check_agent,atend_response_agent_v1"
   ]
  },
  {
   "cell_type": "code",
   "execution_count": 2,
   "id": "58d3acc8-b50e-4f50-96fc-1da8c8b15a27",
   "metadata": {},
   "outputs": [],
   "source": [
    "client = ds_connect()"
   ]
  },
  {
   "cell_type": "code",
   "execution_count": 17,
   "id": "f9b6b6de-f7ce-4cff-ade5-2759f37f49ff",
   "metadata": {},
   "outputs": [],
   "source": [
    "customer_question = \"@airfrance lost luggage in overhead cabin, email no response, phone no one answers. pls help.\"\n",
    "output = class_text_agent(client,customer_question)"
   ]
  },
  {
   "cell_type": "code",
   "execution_count": 18,
   "id": "f97c0172-45f9-4762-b97e-242208ed4dd4",
   "metadata": {},
   "outputs": [
    {
     "data": {
      "text/plain": [
       "{'category': 'Complaints',\n",
       " 'customer_question': '@airfrance lost luggage in overhead cabin, email no response, phone no one answers. pls help.',\n",
       " 'id': '123456',\n",
       " 'time': '20250101'}"
      ]
     },
     "execution_count": 18,
     "metadata": {},
     "output_type": "execute_result"
    }
   ],
   "source": [
    "output['customer_question'] = customer_question\n",
    "output['id'] = '123456' # mock\n",
    "output['time'] = '20250101' # mock\n",
    "output"
   ]
  },
  {
   "cell_type": "markdown",
   "id": "05f7005e-2f95-4659-88e8-b00c3fe98bde",
   "metadata": {},
   "source": [
    "if resp_agent1['category'] in ['Complaints','Inquiries']:\n",
    "    agent2..."
   ]
  },
  {
   "cell_type": "code",
   "execution_count": 8,
   "id": "de45be4a-e2dc-44bc-a2cb-a71570c71ef9",
   "metadata": {},
   "outputs": [],
   "source": [
    "# round 1\n",
    "customer_question = \"Hi there, I just arrived on flight AA123 to NYC but my checked luggage hasn’t shown up at carousel 5 – it’s a black hardcase with rainbow stripes and a green ribbon. Could you help check if it might’ve been routed differently? Really hoping to track it down before leaving the airport. Thanks so much!\"\n",
    "output,messages = qa_agent_round1(client,customer_question)"
   ]
  },
  {
   "cell_type": "code",
   "execution_count": 9,
   "id": "f2b7eb67-56c9-41a6-84ed-f1c03243a050",
   "metadata": {},
   "outputs": [
    {
     "data": {
      "text/plain": [
       "{'response': \"I'm sorry to hear about your luggage. Please report this to the baggage service office at the airport immediately. They will assist in tracking your black hardcase with rainbow stripes and green ribbon. It's possible it was routed differently or delayed.\",\n",
       " 'if_need_assist': 1,\n",
       " 'resolved': 0}"
      ]
     },
     "execution_count": 9,
     "metadata": {},
     "output_type": "execute_result"
    }
   ],
   "source": [
    "output"
   ]
  },
  {
   "cell_type": "code",
   "execution_count": 10,
   "id": "6bdd9981-ee8a-4d12-a290-582e2b9051f0",
   "metadata": {},
   "outputs": [],
   "source": [
    "# round n\n",
    "customer_question = \"Got it, thanks – quick question though, the baggage office is still open this late, right? (It’s nearly 10pm here.) Just worried because my tag got smudged during the flight, but I’ve got photos of the suitcase and receipt. Could they still trace it without the physical tag? Appreciate your help!\"\n",
    "output,messages = qa_agent_roundn(client,messages,customer_question)"
   ]
  },
  {
   "cell_type": "code",
   "execution_count": 11,
   "id": "8d5d4871-9c83-4fbe-9b15-66a7be079064",
   "metadata": {},
   "outputs": [
    {
     "data": {
      "text/plain": [
       "{'response': 'Yes, the baggage office typically operates until the last flight arrives. Even with a smudged tag, they can trace your luggage using your photos and receipt. Please provide these details to the staff for assistance.',\n",
       " 'if_need_assist': 1,\n",
       " 'resolved': 0}"
      ]
     },
     "execution_count": 11,
     "metadata": {},
     "output_type": "execute_result"
    }
   ],
   "source": [
    "output"
   ]
  },
  {
   "cell_type": "code",
   "execution_count": null,
   "id": "8d289a8a-d14c-4181-a142-802214ab12ee",
   "metadata": {},
   "outputs": [],
   "source": []
  },
  {
   "cell_type": "code",
   "execution_count": 12,
   "id": "dd8a64f4-1944-4b41-8193-3dfdb194b9cb",
   "metadata": {},
   "outputs": [],
   "source": [
    "tweet = \"@united No. Denver said they don't handle baggage that made it to Colo. Springs.  They gave me an 800 number to call. No help there either.\"\n",
    "output = cole_data_agent(client,tweet)"
   ]
  },
  {
   "cell_type": "code",
   "execution_count": 13,
   "id": "93e13609-50f2-4764-bbdd-649b15e0e293",
   "metadata": {},
   "outputs": [
    {
     "data": {
      "text/plain": [
       "{'response': {'key_themes': ['Baggage Handling', 'Customer Service'],\n",
       "  'key_information': {'issue': 'Baggage handling confusion between Denver and Colorado Springs',\n",
       "   'contact_attempts': 'Called an 800 number',\n",
       "   'resolved': 'No'},\n",
       "  'user_sentiment': 'Negative'},\n",
       " 'if_need_assist': 1,\n",
       " 'resolved': 0,\n",
       " 'tweet': \"@united No. Denver said they don't handle baggage that made it to Colo. Springs.  They gave me an 800 number to call. No help there either.\",\n",
       " 'id': '123456',\n",
       " 'time': '20250101'}"
      ]
     },
     "execution_count": 13,
     "metadata": {},
     "output_type": "execute_result"
    }
   ],
   "source": [
    "output['tweet'] = tweet\n",
    "output['id'] = '123456' # mock\n",
    "output['time'] = '20250101' # mock\n",
    "output"
   ]
  },
  {
   "cell_type": "code",
   "execution_count": null,
   "id": "33ed3c37-6c68-4377-9401-698e71ca279a",
   "metadata": {},
   "outputs": [],
   "source": []
  },
  {
   "cell_type": "code",
   "execution_count": 5,
   "id": "467dd7f0-43b2-4277-863f-f03be238e729",
   "metadata": {},
   "outputs": [],
   "source": [
    "# para ajudar o atendimento"
   ]
  },
  {
   "cell_type": "code",
   "execution_count": 4,
   "id": "b2addca0-87df-4fa1-9c29-a2f22c422e66",
   "metadata": {},
   "outputs": [],
   "source": [
    "customer_question = \"Hi there, I just arrived on flight AA123 to NYC but my checked luggage hasn’t shown up at carousel 5 – it’s a black hardcase with rainbow stripes and a green ribbon. Could you help check if it might’ve been routed differently? Really hoping to track it down before leaving the airport. Thanks so much!\"\n",
    "# contem tweets, tempo, sentimento, problemas resolvidos?, e qual foi ultimo response\n",
    "last_3_tweets = ''' \n",
    "{'tweet_content': 'Just landed in NYC on flight AA123 and my black hardcase with rainbow stripes is missing. Any help would be appreciated! #LostLuggage',\n",
    "'publication_time': '2023-03-15T14:22:00Z'},\n",
    "{'tweet_content': 'Had a similar issue with flight AA123 last month. My luggage was mistakenly sent to carousel 7. Check there! #TravelTips',\n",
    "   'publication_time': '2023-02-20T09:45:00Z'}\n",
    "{'tweet_content': 'Finally found my luggage after it was misplaced on flight AA123. Big thanks to the staff at carousel 5 for their help! #Grateful',\n",
    "   'publication_time': '2023-01-10T18:30:00Z'}\n",
    "'''\n",
    "text = f'''\n",
    "customers text:{customer_question},\n",
    "last 3 tweets:{last_3_tweets}\n",
    "'''"
   ]
  },
  {
   "cell_type": "code",
   "execution_count": 7,
   "id": "0fd6d553-6893-44e8-894a-b5424cb37b81",
   "metadata": {},
   "outputs": [],
   "source": [
    "output = atend_f_response_agent(client,text)"
   ]
  },
  {
   "cell_type": "code",
   "execution_count": 13,
   "id": "d5d6e9ee-9165-44f1-a768-38c050ef1523",
   "metadata": {},
   "outputs": [
    {
     "data": {
      "text/plain": [
       "\"We understand your concern about your missing black hardcase with rainbow stripes and green ribbon from flight AA123. Based on similar past incidents, we suggest checking carousel 7 and contacting the staff at carousel 5 for assistance. We're here to help and hope to resolve this quickly for you.\""
      ]
     },
     "execution_count": 13,
     "metadata": {},
     "output_type": "execute_result"
    }
   ],
   "source": [
    "output['response']"
   ]
  },
  {
   "cell_type": "code",
   "execution_count": 9,
   "id": "915d759d-1d18-4f29-bf0f-b222af3c797b",
   "metadata": {},
   "outputs": [
    {
     "data": {
      "text/plain": [
       "'Customer reports missing black hardcase luggage with rainbow stripes and green ribbon from flight AA123 at carousel 5, seeking assistance to locate it before leaving the airport.'"
      ]
     },
     "execution_count": 9,
     "metadata": {},
     "output_type": "execute_result"
    }
   ],
   "source": [
    "output['summarize_question']"
   ]
  },
  {
   "cell_type": "code",
   "execution_count": null,
   "id": "09dca39e-d92a-44c3-9712-c0993d23a751",
   "metadata": {},
   "outputs": [],
   "source": []
  },
  {
   "cell_type": "code",
   "execution_count": 5,
   "id": "cea1229c-5d44-4692-8f6b-473a876d95bf",
   "metadata": {},
   "outputs": [],
   "source": [
    "# inside"
   ]
  },
  {
   "cell_type": "code",
   "execution_count": 6,
   "id": "087616e5-117c-4df3-a7cb-08c4f014d3a4",
   "metadata": {},
   "outputs": [],
   "source": [
    "output1 = atend_retrieval_agent(client,text)"
   ]
  },
  {
   "cell_type": "code",
   "execution_count": 7,
   "id": "1a026658-b423-4178-96fd-afdfc3b2ebe6",
   "metadata": {
    "scrolled": true
   },
   "outputs": [
    {
     "data": {
      "text/plain": [
       "{'issue': 'Lost luggage on flight AA123 to NYC',\n",
       " 'key_themes': ['lost luggage',\n",
       "  'flight AA123',\n",
       "  'NYC',\n",
       "  'carousel 5',\n",
       "  'black hardcase with rainbow stripes and green ribbon'],\n",
       " 'historical_tweets': [{'tweet_content': 'Just landed in NYC on flight AA123 and my black hardcase with rainbow stripes is missing. Any help would be appreciated! #LostLuggage',\n",
       "   'publication_time': '2023-03-15T14:22:00Z',\n",
       "   'user_sentiment': 'negative',\n",
       "   'official_response': None,\n",
       "   'if_problems_resolved': None},\n",
       "  {'tweet_content': 'Had a similar issue with flight AA123 last month. My luggage was mistakenly sent to carousel 7. Check there! #TravelTips',\n",
       "   'publication_time': '2023-02-20T09:45:00Z',\n",
       "   'user_sentiment': 'neutral',\n",
       "   'official_response': None,\n",
       "   'if_problems_resolved': 'yes'},\n",
       "  {'tweet_content': 'Finally found my luggage after it was misplaced on flight AA123. Big thanks to the staff at carousel 5 for their help! #Grateful',\n",
       "   'publication_time': '2023-01-10T18:30:00Z',\n",
       "   'user_sentiment': 'positive',\n",
       "   'official_response': None,\n",
       "   'if_problems_resolved': 'yes'}],\n",
       " 'suggested_actions': 'Check carousel 7 for the luggage as it has been mistakenly sent there in the past. Additionally, seek assistance from the staff at carousel 5, as they have previously helped in locating misplaced luggage.'}"
      ]
     },
     "execution_count": 7,
     "metadata": {},
     "output_type": "execute_result"
    }
   ],
   "source": [
    "output1"
   ]
  },
  {
   "cell_type": "code",
   "execution_count": null,
   "id": "ef30977c-b2c2-4a34-ae7f-fd67a4d3b8c7",
   "metadata": {},
   "outputs": [],
   "source": []
  },
  {
   "cell_type": "code",
   "execution_count": 8,
   "id": "6768ec85-e910-47ae-a0b7-2a7f8b10b661",
   "metadata": {},
   "outputs": [],
   "source": [
    "text2 = f'''\n",
    "{text},\n",
    "retrieval agent response: {output1}\n",
    "'''"
   ]
  },
  {
   "cell_type": "code",
   "execution_count": 9,
   "id": "1233c42c-c630-438c-aea7-398b42e37f37",
   "metadata": {},
   "outputs": [],
   "source": [
    "output2 = atend_fact_check_agent(client,text2)"
   ]
  },
  {
   "cell_type": "code",
   "execution_count": 10,
   "id": "6dbd2146-0614-42cc-bb59-3c2c3a06c400",
   "metadata": {},
   "outputs": [
    {
     "data": {
      "text/plain": [
       "{'issue': 'Lost luggage on flight AA123 to NYC',\n",
       " 'key_themes': ['lost luggage',\n",
       "  'flight AA123',\n",
       "  'NYC',\n",
       "  'carousel 5',\n",
       "  'black hardcase with rainbow stripes and green ribbon'],\n",
       " 'suggested_actions': 'Check carousel 7 for the luggage as it has been mistakenly sent there in the past. Additionally, seek assistance from the staff at carousel 5, as they have previously helped in locating misplaced luggage.'}"
      ]
     },
     "execution_count": 10,
     "metadata": {},
     "output_type": "execute_result"
    }
   ],
   "source": [
    "output2"
   ]
  },
  {
   "cell_type": "code",
   "execution_count": null,
   "id": "acf35932-7246-4386-b335-166628d0cb77",
   "metadata": {},
   "outputs": [],
   "source": []
  },
  {
   "cell_type": "code",
   "execution_count": 11,
   "id": "ca04329b-46d8-4d25-bc2b-7eccd2c7e39b",
   "metadata": {},
   "outputs": [],
   "source": [
    "text3 = f'''\n",
    "{text},\n",
    "retrieval agent response: {output1}\n",
    "fact-checking agent response: {output2} \n",
    "'''"
   ]
  },
  {
   "cell_type": "code",
   "execution_count": 13,
   "id": "ef2ccfe4-e93e-42e9-811c-b83d497c2ec9",
   "metadata": {},
   "outputs": [],
   "source": [
    "output3 = atend_response_agent_v1(client,text3)"
   ]
  },
  {
   "cell_type": "code",
   "execution_count": 14,
   "id": "bf9c5994-bd62-40c9-bf57-1abe956c71b4",
   "metadata": {},
   "outputs": [
    {
     "data": {
      "text/plain": [
       "{'response': 'We understand your concern about your missing black hardcase with rainbow stripes and a green ribbon from flight AA123. Based on past incidents, we suggest checking carousel 7, as luggage has been mistakenly sent there before. Also, our staff at carousel 5 are ready to assist you further. We hope to resolve this quickly for you.',\n",
       " 'summarize_question': 'Customer reports missing black hardcase with rainbow stripes and green ribbon from flight AA123 at carousel 5 in NYC and seeks assistance to locate it before leaving the airport.'}"
      ]
     },
     "execution_count": 14,
     "metadata": {},
     "output_type": "execute_result"
    }
   ],
   "source": [
    "output3"
   ]
  },
  {
   "cell_type": "code",
   "execution_count": null,
   "id": "2a7e9ab4-3d97-434a-8e33-d97382108c34",
   "metadata": {},
   "outputs": [],
   "source": []
  },
  {
   "cell_type": "code",
   "execution_count": null,
   "id": "9c6a21c7-a4e0-4525-9f7c-19571d73e818",
   "metadata": {},
   "outputs": [],
   "source": []
  },
  {
   "cell_type": "code",
   "execution_count": null,
   "id": "5d9a6b84-a5d6-442b-8fcd-5d79bc3d83ae",
   "metadata": {},
   "outputs": [],
   "source": []
  }
 ],
 "metadata": {
  "kernelspec": {
   "display_name": "Python 3 (ipykernel)",
   "language": "python",
   "name": "python3"
  },
  "language_info": {
   "codemirror_mode": {
    "name": "ipython",
    "version": 3
   },
   "file_extension": ".py",
   "mimetype": "text/x-python",
   "name": "python",
   "nbconvert_exporter": "python",
   "pygments_lexer": "ipython3",
   "version": "3.8.20"
  }
 },
 "nbformat": 4,
 "nbformat_minor": 5
}
