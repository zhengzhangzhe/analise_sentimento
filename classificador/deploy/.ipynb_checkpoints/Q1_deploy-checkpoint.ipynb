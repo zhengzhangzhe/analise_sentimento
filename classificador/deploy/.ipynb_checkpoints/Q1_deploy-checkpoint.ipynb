{
 "cells": [
  {
   "cell_type": "code",
   "execution_count": 1,
   "id": "9fac0ba4-53b6-4b24-b3f9-f494f82ad4b4",
   "metadata": {},
   "outputs": [],
   "source": [
    "import sys\n",
    "import os\n",
    "\n",
    "sys.path.append(os.path.abspath(\"../utils\")) \n",
    "\n",
    "import joblib\n",
    "import pandas as pd\n",
    "\n",
    "import utils"
   ]
  },
  {
   "cell_type": "code",
   "execution_count": 2,
   "id": "0da90bd5-0f29-429f-8e01-53e0eef06f8d",
   "metadata": {},
   "outputs": [],
   "source": [
    "# carregar modelos\n",
    "vectorizer = joblib.load(open('../modelos/TfidfVectorizer.pkl', 'rb'))\n",
    "model = joblib.load(open('../modelos/modelNB_TfidfVectorizer.pkl', 'rb'))"
   ]
  },
  {
   "cell_type": "code",
   "execution_count": 3,
   "id": "a9ab45be-8bbd-4511-a6c8-f87dd666a0ec",
   "metadata": {},
   "outputs": [],
   "source": [
    "df_pred = pd.read_csv('tweet_sentiment_airlines_deploy.csv')\n",
    "df_pred.columns = ['texto_tweet']"
   ]
  },
  {
   "cell_type": "code",
   "execution_count": 4,
   "id": "7718b3c7-3328-4674-90d7-2329e672d2c5",
   "metadata": {},
   "outputs": [],
   "source": [
    "X = df_pred['texto_tweet']\n",
    "# data clean\n",
    "X = [utils.clean_tweet(x) for x in X]\n",
    "# transforma pra features\n",
    "X = vectorizer.transform(X)"
   ]
  },
  {
   "cell_type": "code",
   "execution_count": 5,
   "id": "7c1b909e-0842-4b54-844b-c1258eef391d",
   "metadata": {},
   "outputs": [],
   "source": [
    "# prever\n",
    "df_pred['sentimento_tweet'] = model.predict(X)"
   ]
  },
  {
   "cell_type": "code",
   "execution_count": 6,
   "id": "cda365e0-ecee-4ea4-8e67-6ad09527875d",
   "metadata": {},
   "outputs": [
    {
     "data": {
      "text/html": [
       "<div>\n",
       "<style scoped>\n",
       "    .dataframe tbody tr th:only-of-type {\n",
       "        vertical-align: middle;\n",
       "    }\n",
       "\n",
       "    .dataframe tbody tr th {\n",
       "        vertical-align: top;\n",
       "    }\n",
       "\n",
       "    .dataframe thead th {\n",
       "        text-align: right;\n",
       "    }\n",
       "</style>\n",
       "<table border=\"1\" class=\"dataframe\">\n",
       "  <thead>\n",
       "    <tr style=\"text-align: right;\">\n",
       "      <th></th>\n",
       "      <th>texto_tweet</th>\n",
       "      <th>sentimento_tweet</th>\n",
       "    </tr>\n",
       "  </thead>\n",
       "  <tbody>\n",
       "    <tr>\n",
       "      <th>0</th>\n",
       "      <td>@united No. Denver said they don't handle bagg...</td>\n",
       "      <td>0</td>\n",
       "    </tr>\n",
       "    <tr>\n",
       "      <th>1</th>\n",
       "      <td>@united well, thanks for not charging me for s...</td>\n",
       "      <td>0</td>\n",
       "    </tr>\n",
       "    <tr>\n",
       "      <th>2</th>\n",
       "      <td>@VirginAmerica is the website down?</td>\n",
       "      <td>0</td>\n",
       "    </tr>\n",
       "    <tr>\n",
       "      <th>3</th>\n",
       "      <td>@USAirways on the DL, send Ethan some new pant...</td>\n",
       "      <td>1</td>\n",
       "    </tr>\n",
       "    <tr>\n",
       "      <th>4</th>\n",
       "      <td>Yes but I will nvr fly w/ @USAirways I missed ...</td>\n",
       "      <td>1</td>\n",
       "    </tr>\n",
       "    <tr>\n",
       "      <th>...</th>\n",
       "      <td>...</td>\n",
       "      <td>...</td>\n",
       "    </tr>\n",
       "    <tr>\n",
       "      <th>2923</th>\n",
       "      <td>@USAirways Marsha M. at Myrtle Beach is the gr...</td>\n",
       "      <td>1</td>\n",
       "    </tr>\n",
       "    <tr>\n",
       "      <th>2924</th>\n",
       "      <td>@united to DM you I have to follow you and I'm...</td>\n",
       "      <td>1</td>\n",
       "    </tr>\n",
       "    <tr>\n",
       "      <th>2925</th>\n",
       "      <td>@AmericanAir After being patient about my \"del...</td>\n",
       "      <td>0</td>\n",
       "    </tr>\n",
       "    <tr>\n",
       "      <th>2926</th>\n",
       "      <td>@united thanks, I'm booked. Just spent an extr...</td>\n",
       "      <td>0</td>\n",
       "    </tr>\n",
       "    <tr>\n",
       "      <th>2927</th>\n",
       "      <td>@SouthwestAir crazy hold times today. Over an ...</td>\n",
       "      <td>0</td>\n",
       "    </tr>\n",
       "  </tbody>\n",
       "</table>\n",
       "<p>2928 rows × 2 columns</p>\n",
       "</div>"
      ],
      "text/plain": [
       "                                            texto_tweet  sentimento_tweet\n",
       "0     @united No. Denver said they don't handle bagg...                 0\n",
       "1     @united well, thanks for not charging me for s...                 0\n",
       "2                   @VirginAmerica is the website down?                 0\n",
       "3     @USAirways on the DL, send Ethan some new pant...                 1\n",
       "4     Yes but I will nvr fly w/ @USAirways I missed ...                 1\n",
       "...                                                 ...               ...\n",
       "2923  @USAirways Marsha M. at Myrtle Beach is the gr...                 1\n",
       "2924  @united to DM you I have to follow you and I'm...                 1\n",
       "2925  @AmericanAir After being patient about my \"del...                 0\n",
       "2926  @united thanks, I'm booked. Just spent an extr...                 0\n",
       "2927  @SouthwestAir crazy hold times today. Over an ...                 0\n",
       "\n",
       "[2928 rows x 2 columns]"
      ]
     },
     "execution_count": 6,
     "metadata": {},
     "output_type": "execute_result"
    }
   ],
   "source": [
    "df_pred"
   ]
  },
  {
   "cell_type": "code",
   "execution_count": null,
   "id": "f3b41fd2-5458-4562-b837-4030880807c7",
   "metadata": {},
   "outputs": [],
   "source": []
  },
  {
   "cell_type": "code",
   "execution_count": null,
   "id": "daa5969e-0a45-4194-ba36-45122acf10a1",
   "metadata": {},
   "outputs": [],
   "source": []
  },
  {
   "cell_type": "code",
   "execution_count": null,
   "id": "bc4ac488-d902-464b-9707-1c874d11b347",
   "metadata": {},
   "outputs": [],
   "source": []
  },
  {
   "cell_type": "code",
   "execution_count": null,
   "id": "171c99de-fa31-4e7a-96cd-6b7ee652e3fb",
   "metadata": {},
   "outputs": [],
   "source": []
  },
  {
   "cell_type": "code",
   "execution_count": null,
   "id": "1e5e9548-c5dc-4eba-b120-8fee89dbcaf4",
   "metadata": {},
   "outputs": [],
   "source": []
  }
 ],
 "metadata": {
  "kernelspec": {
   "display_name": "Python 3 (ipykernel)",
   "language": "python",
   "name": "python3"
  },
  "language_info": {
   "codemirror_mode": {
    "name": "ipython",
    "version": 3
   },
   "file_extension": ".py",
   "mimetype": "text/x-python",
   "name": "python",
   "nbconvert_exporter": "python",
   "pygments_lexer": "ipython3",
   "version": "3.8.20"
  }
 },
 "nbformat": 4,
 "nbformat_minor": 5
}
