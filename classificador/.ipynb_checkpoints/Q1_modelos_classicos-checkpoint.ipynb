{
 "cells": [
  {
   "cell_type": "code",
   "execution_count": 1,
   "id": "ba7e42c7-5901-4bc3-ae0b-639302261ced",
   "metadata": {},
   "outputs": [
    {
     "name": "stderr",
     "output_type": "stream",
     "text": [
      "2025-02-15 09:51:41.197382: I tensorflow/core/platform/cpu_feature_guard.cc:182] This TensorFlow binary is optimized to use available CPU instructions in performance-critical operations.\n",
      "To enable the following instructions: AVX2 FMA, in other operations, rebuild TensorFlow with the appropriate compiler flags.\n"
     ]
    }
   ],
   "source": [
    "import pandas as pd\n",
    "import numpy as np\n",
    "import re\n",
    "import seaborn as sns\n",
    "import matplotlib.pyplot as plt\n",
    "\n",
    "from utils import utils\n",
    "\n",
    "import joblib\n",
    "\n",
    "from sklearn.naive_bayes import MultinomialNB\n",
    "\n",
    "from sklearn.feature_extraction.text import TfidfVectorizer, CountVectorizer\n",
    "\n",
    "from sklearn.model_selection import train_test_split, KFold, cross_val_score\n",
    "from sklearn.metrics import accuracy_score, confusion_matrix, classification_report\n",
    "\n",
    "from keras.preprocessing.text import Tokenizer\n",
    "from keras.preprocessing.sequence import pad_sequences\n",
    "from keras.models import Sequential\n",
    "from keras.layers import Dense, Embedding, LSTM, SpatialDropout1D\n",
    "from keras.utils import to_categorical\n",
    "from keras.callbacks import EarlyStopping\n",
    "from keras.layers import Dropout"
   ]
  },
  {
   "cell_type": "code",
   "execution_count": 2,
   "id": "937c23aa-d244-490a-8c45-4cf8b2be2b3a",
   "metadata": {},
   "outputs": [],
   "source": [
    "# data"
   ]
  },
  {
   "cell_type": "code",
   "execution_count": 3,
   "id": "ce93631f-917c-4ed2-b212-23b712204688",
   "metadata": {},
   "outputs": [],
   "source": [
    "df = pd.read_csv('../dados/analise_de_sentimentos.csv')"
   ]
  },
  {
   "cell_type": "code",
   "execution_count": 4,
   "id": "556226bf-58ef-48cb-aeff-166563863f64",
   "metadata": {},
   "outputs": [],
   "source": [
    "# model1"
   ]
  },
  {
   "cell_type": "code",
   "execution_count": 5,
   "id": "fc492b8d-43f5-4b2d-802c-9934269c6fa5",
   "metadata": {},
   "outputs": [],
   "source": [
    "X = df['texto_tweet']\n",
    "labels = df['sentimento_tweet']"
   ]
  },
  {
   "cell_type": "code",
   "execution_count": 6,
   "id": "8e796e6c-dc59-4555-89b1-49d3c9270602",
   "metadata": {},
   "outputs": [
    {
     "data": {
      "text/plain": [
       "(1096, 2797)"
      ]
     },
     "execution_count": 6,
     "metadata": {},
     "output_type": "execute_result"
    }
   ],
   "source": [
    "# data clean\n",
    "X = [utils.clean_tweet(x) for x in X]\n",
    "# vetorizar\n",
    "vectorizer = TfidfVectorizer()\n",
    "# transformar pra features\n",
    "X = vectorizer.fit_transform(X)\n",
    "X.shape"
   ]
  },
  {
   "cell_type": "code",
   "execution_count": 7,
   "id": "8efb8d59-3d1c-4d33-a2ac-87e8f47387d8",
   "metadata": {},
   "outputs": [],
   "source": [
    "# separar trainar e test\n",
    "X_train,X_test,y_train,y_test = train_test_split(X,labels,test_size = 0.3,random_state=42)"
   ]
  },
  {
   "cell_type": "code",
   "execution_count": 8,
   "id": "dc6bbc76-a005-4956-89f0-9cef405a3c3e",
   "metadata": {},
   "outputs": [
    {
     "name": "stdout",
     "output_type": "stream",
     "text": [
      "0.6869300911854104\n"
     ]
    }
   ],
   "source": [
    "# trainar modelo multiclasses\n",
    "clf = MultinomialNB()\n",
    "clf.fit(X_train,y_train)\n",
    "y_pred = clf.predict(X_test)\n",
    "# avaliar o modelo em base de test com acuracia \n",
    "accuracy = accuracy_score(y_test,y_pred)\n",
    "print(accuracy)"
   ]
  },
  {
   "cell_type": "code",
   "execution_count": 9,
   "id": "319a56fe-d7d4-4132-b545-67b62fca803c",
   "metadata": {},
   "outputs": [
    {
     "data": {
      "text/plain": [
       "Text(0.5, 58.7222222222222, 'predict')"
      ]
     },
     "execution_count": 9,
     "metadata": {},
     "output_type": "execute_result"
    },
    {
     "data": {
      "image/png": "[encoded data removed]",
      "text/plain": [
       "<Figure size 1000x800 with 2 Axes>"
      ]
     },
     "metadata": {},
     "output_type": "display_data"
    }
   ],
   "source": [
    "# visualizar resultado\n",
    "conf_mat = confusion_matrix(y_test, y_pred)\n",
    "fig, ax = plt.subplots(figsize=(10,8))\n",
    "sns.heatmap(conf_mat, annot=True, fmt='d',\n",
    "            xticklabels=df['sentimento_tweet'].unique(), yticklabels=df['sentimento_tweet'].unique())\n",
    "plt.ylabel('labels',fontsize=18)\n",
    "plt.xlabel('predict',fontsize=18)"
   ]
  },
  {
   "cell_type": "code",
   "execution_count": 10,
   "id": "d2998a88-bfe4-412f-a9cd-3f8f8f100e51",
   "metadata": {},
   "outputs": [
    {
     "name": "stdout",
     "output_type": "stream",
     "text": [
      "              precision    recall  f1-score   support\n",
      "\n",
      "           0       0.75      0.72      0.73       124\n",
      "           1       0.64      0.86      0.73       152\n",
      "           2       1.00      0.13      0.23        53\n",
      "\n",
      "    accuracy                           0.69       329\n",
      "   macro avg       0.80      0.57      0.57       329\n",
      "weighted avg       0.74      0.69      0.65       329\n",
      "\n"
     ]
    }
   ],
   "source": [
    "# visao geral da pra avaliar o modelo em base de teste\n",
    "print(classification_report(y_test, y_pred,target_names=df['sentimento_tweet'].astype(str).unique()))"
   ]
  },
  {
   "cell_type": "code",
   "execution_count": 11,
   "id": "cf7591f7-268e-4a68-a295-20ac0fadf59d",
   "metadata": {},
   "outputs": [
    {
     "data": {
      "text/plain": [
       "['modelos/modelNB_TfidfVectorizer.pkl']"
      ]
     },
     "execution_count": 11,
     "metadata": {},
     "output_type": "execute_result"
    }
   ],
   "source": [
    "# save modelos\n",
    "joblib.dump(vectorizer, \"modelos/TfidfVectorizer.pkl\") \n",
    "joblib.dump(clf, \"modelos/modelNB_TfidfVectorizer.pkl\") "
   ]
  },
  {
   "cell_type": "code",
   "execution_count": null,
   "id": "28f91f3b-df02-43f4-b7c0-40acb7868829",
   "metadata": {},
   "outputs": [],
   "source": []
  },
  {
   "cell_type": "code",
   "execution_count": 12,
   "id": "d8419d3a-6c22-4618-b0e7-9a8230af8526",
   "metadata": {},
   "outputs": [],
   "source": [
    "# model2"
   ]
  },
  {
   "cell_type": "code",
   "execution_count": 13,
   "id": "36930a4b-e408-4e64-8e70-4d82e98ec7c3",
   "metadata": {},
   "outputs": [],
   "source": [
    "X = df['texto_tweet']\n",
    "labels = df['sentimento_tweet']"
   ]
  },
  {
   "cell_type": "code",
   "execution_count": 14,
   "id": "2f1d9240-bcf8-441c-9735-361b407da979",
   "metadata": {},
   "outputs": [
    {
     "data": {
      "text/plain": [
       "(1096, 2797)"
      ]
     },
     "execution_count": 14,
     "metadata": {},
     "output_type": "execute_result"
    }
   ],
   "source": [
    "# data clean\n",
    "X = [utils.clean_tweet(x) for x in X]\n",
    "vectorizer = CountVectorizer()\n",
    "X = vectorizer.fit_transform(X)\n",
    "X.shape"
   ]
  },
  {
   "cell_type": "code",
   "execution_count": 15,
   "id": "34e86a5f-6a32-412b-94b7-c4cff6651ebe",
   "metadata": {},
   "outputs": [],
   "source": [
    "X_train,X_test,y_train,y_test = train_test_split(X,labels,test_size = 0.3,random_state=42)"
   ]
  },
  {
   "cell_type": "code",
   "execution_count": 16,
   "id": "53567a27-4523-4c24-a272-926e48c027a7",
   "metadata": {},
   "outputs": [
    {
     "name": "stdout",
     "output_type": "stream",
     "text": [
      "0.6595744680851063\n"
     ]
    }
   ],
   "source": [
    "clf = MultinomialNB()\n",
    "clf.fit(X_train,y_train)\n",
    "y_pred = clf.predict(X_test)\n",
    "accuracy = accuracy_score(y_test,y_pred)\n",
    "print(accuracy)"
   ]
  },
  {
   "cell_type": "code",
   "execution_count": 17,
   "id": "a02411e2-6d9b-4cd4-8a29-8bd64adeac36",
   "metadata": {},
   "outputs": [
    {
     "data": {
      "text/plain": [
       "Text(0.5, 58.7222222222222, 'predict')"
      ]
     },
     "execution_count": 17,
     "metadata": {},
     "output_type": "execute_result"
    },
    {
     "data": {
      "image/png": "[encoded data removed]",
      "text/plain": [
       "<Figure size 1000x800 with 2 Axes>"
      ]
     },
     "metadata": {},
     "output_type": "display_data"
    }
   ],
   "source": [
    "conf_mat = confusion_matrix(y_test, y_pred)\n",
    "fig, ax = plt.subplots(figsize=(10,8))\n",
    "sns.heatmap(conf_mat, annot=True, fmt='d',\n",
    "            xticklabels=df['sentimento_tweet'].unique(), yticklabels=df['sentimento_tweet'].unique())\n",
    "plt.ylabel('labels',fontsize=18)\n",
    "plt.xlabel('predict',fontsize=18)"
   ]
  },
  {
   "cell_type": "code",
   "execution_count": 18,
   "id": "fbc12455-bd68-4d68-84f3-19dcb9fa2d96",
   "metadata": {},
   "outputs": [
    {
     "name": "stdout",
     "output_type": "stream",
     "text": [
      "              precision    recall  f1-score   support\n",
      "\n",
      "           0       0.68      0.75      0.71       124\n",
      "           1       0.71      0.69      0.70       152\n",
      "           2       0.43      0.36      0.39        53\n",
      "\n",
      "    accuracy                           0.66       329\n",
      "   macro avg       0.61      0.60      0.60       329\n",
      "weighted avg       0.65      0.66      0.66       329\n",
      "\n"
     ]
    }
   ],
   "source": [
    "print(classification_report(y_test, y_pred,target_names=df['sentimento_tweet'].astype(str).unique()))"
   ]
  },
  {
   "cell_type": "code",
   "execution_count": 19,
   "id": "06b6f374-d0d3-4e64-b07e-2075ce700fa1",
   "metadata": {},
   "outputs": [
    {
     "data": {
      "text/plain": [
       "['modelos/modelNB_CountVectorizer.pkl']"
      ]
     },
     "execution_count": 19,
     "metadata": {},
     "output_type": "execute_result"
    }
   ],
   "source": [
    "# save\n",
    "joblib.dump(vectorizer, \"modelos/CountVectorizer.pkl\") \n",
    "joblib.dump(clf, \"modelos/modelNB_CountVectorizer.pkl\") "
   ]
  },
  {
   "cell_type": "code",
   "execution_count": null,
   "id": "589b438c-b7a3-4de0-a6c1-01e29bf0ecf3",
   "metadata": {},
   "outputs": [],
   "source": []
  },
  {
   "cell_type": "code",
   "execution_count": 20,
   "id": "ff8327ab-feb4-4bce-9722-159db5252ccc",
   "metadata": {},
   "outputs": [],
   "source": [
    "# model3"
   ]
  },
  {
   "cell_type": "code",
   "execution_count": 21,
   "id": "3977f297-071f-4e57-85a1-c6fd1de024d1",
   "metadata": {},
   "outputs": [
    {
     "name": "stderr",
     "output_type": "stream",
     "text": [
      "/var/folders/0p/ffm0lz013qlcmq18mn7ffj9r0000gn/T/ipykernel_84086/156805149.py:3: SettingWithCopyWarning: \n",
      "A value is trying to be set on a copy of a slice from a DataFrame.\n",
      "Try using .loc[row_indexer,col_indexer] = value instead\n",
      "\n",
      "See the caveats in the documentation: https://pandas.pydata.org/pandas-docs/stable/user_guide/indexing.html#returning-a-view-versus-a-copy\n",
      "  df_test['texto_tweet'] = [utils.clean_tweet(x) for x in df['texto_tweet']]\n"
     ]
    }
   ],
   "source": [
    "df_test=df[['sentimento_tweet','texto_tweet']]\n",
    "# data clean\n",
    "df_test['texto_tweet'] = [utils.clean_tweet(x) for x in df['texto_tweet']]"
   ]
  },
  {
   "cell_type": "code",
   "execution_count": 22,
   "id": "10077404-267c-4ca1-b170-5b01dca13fdb",
   "metadata": {},
   "outputs": [
    {
     "name": "stderr",
     "output_type": "stream",
     "text": [
      "/var/folders/0p/ffm0lz013qlcmq18mn7ffj9r0000gn/T/ipykernel_84086/2183259945.py:1: SettingWithCopyWarning: \n",
      "A value is trying to be set on a copy of a slice from a DataFrame.\n",
      "Try using .loc[row_indexer,col_indexer] = value instead\n",
      "\n",
      "See the caveats in the documentation: https://pandas.pydata.org/pandas-docs/stable/user_guide/indexing.html#returning-a-view-versus-a-copy\n",
      "  df_test['sentimento_tweet_id'] = df_test['sentimento_tweet'].factorize()[0]\n"
     ]
    }
   ],
   "source": [
    "df_test['sentimento_tweet_id'] = df_test['sentimento_tweet'].factorize()[0]\n",
    "# mapping\n",
    "sentimento_tweet_id_df = df_test[['sentimento_tweet', 'sentimento_tweet_id']].drop_duplicates().sort_values('sentimento_tweet_id').reset_index(drop=True)\n",
    "sentimento_tweet_to_id = dict(sentimento_tweet_id_df.values)\n",
    "id_to_sentimento_tweet = dict(sentimento_tweet_id_df[['sentimento_tweet_id', 'sentimento_tweet']].values)"
   ]
  },
  {
   "cell_type": "code",
   "execution_count": 23,
   "id": "a633a424-7cb9-47a0-9919-5b52d4644e9b",
   "metadata": {},
   "outputs": [],
   "source": [
    "# Definir as 50.000 palavras mais frequentes\n",
    "MAX_NB_WORDS = 50000\n",
    "# Definir o comprimento máximo de cada cut_review \n",
    "MAX_SEQUENCE_LENGTH = 500\n",
    "# Definir a dimensão da camada de Embedding\n",
    "EMBEDDING_DIM = 100\n",
    "\n",
    "tokenizer = Tokenizer(num_words=MAX_NB_WORDS, lower=True)\n",
    "tokenizer.fit_on_texts(df_test['texto_tweet'].values)\n",
    "word_index = tokenizer.word_index"
   ]
  },
  {
   "cell_type": "code",
   "execution_count": 24,
   "id": "eaf17a86-c82f-4fa0-aacb-99cf1c4f17f7",
   "metadata": {},
   "outputs": [
    {
     "name": "stdout",
     "output_type": "stream",
     "text": [
      "(1096, 500)\n",
      "(1096, 3)\n"
     ]
    }
   ],
   "source": [
    "X = tokenizer.texts_to_sequences(df_test['texto_tweet'].values)\n",
    "# unificar pra a mesma dimensão\n",
    "X = pad_sequences(X, maxlen=MAX_SEQUENCE_LENGTH)\n",
    "\n",
    "# one hot, label pra array\n",
    "Y = pd.get_dummies(df_test['sentimento_tweet_id']).values\n",
    "print(X.shape)\n",
    "print(Y.shape)"
   ]
  },
  {
   "cell_type": "code",
   "execution_count": 25,
   "id": "b887d7e8-9023-4a01-b1eb-5106764885f6",
   "metadata": {},
   "outputs": [
    {
     "name": "stdout",
     "output_type": "stream",
     "text": [
      "(876, 500) (876, 3)\n",
      "(220, 500) (220, 3)\n"
     ]
    }
   ],
   "source": [
    "# separar trainar e teste\n",
    "X_train, X_test, Y_train, Y_test = train_test_split(X,Y, test_size = 0.20, random_state = 42)\n",
    "print(X_train.shape,Y_train.shape)\n",
    "print(X_test.shape,Y_test.shape)"
   ]
  },
  {
   "cell_type": "code",
   "execution_count": 26,
   "id": "2fe4cdf0-43ea-4a94-9213-81af4a119c32",
   "metadata": {},
   "outputs": [
    {
     "name": "stdout",
     "output_type": "stream",
     "text": [
      "Model: \"sequential\"\n",
      "_________________________________________________________________\n",
      " Layer (type)                Output Shape              Param #   \n",
      "=================================================================\n",
      " embedding (Embedding)       (None, 500, 100)          5000000   \n",
      "                                                                 \n",
      " spatial_dropout1d (Spatial  (None, 500, 100)          0         \n",
      " Dropout1D)                                                      \n",
      "                                                                 \n",
      " lstm (LSTM)                 (None, 64)                42240     \n",
      "                                                                 \n",
      " dense (Dense)               (None, 3)                 195       \n",
      "                                                                 \n",
      "=================================================================\n",
      "Total params: 5042435 (19.24 MB)\n",
      "Trainable params: 5042435 (19.24 MB)\n",
      "Non-trainable params: 0 (0.00 Byte)\n",
      "_________________________________________________________________\n",
      "None\n"
     ]
    }
   ],
   "source": [
    "# definir os parametros do modelo\n",
    "model = Sequential()\n",
    "model.add(Embedding(MAX_NB_WORDS, EMBEDDING_DIM, input_length=X.shape[1]))\n",
    "model.add(SpatialDropout1D(0.2))\n",
    "model.add(LSTM(64, dropout=0.2, recurrent_dropout=0.2))\n",
    "model.add(Dense(3, activation='softmax'))\n",
    "model.compile(loss='categorical_crossentropy', optimizer='adam', metrics=['accuracy'])\n",
    "print(model.summary())"
   ]
  },
  {
   "cell_type": "code",
   "execution_count": 27,
   "id": "c207b6ab-431a-45b4-a9e3-6b7a23fc734a",
   "metadata": {},
   "outputs": [
    {
     "name": "stdout",
     "output_type": "stream",
     "text": [
      "Epoch 1/6\n",
      "13/13 [==============================] - 8s 420ms/step - loss: 1.0655 - accuracy: 0.4454 - val_loss: 1.0165 - val_accuracy: 0.4545\n",
      "Epoch 2/6\n",
      "13/13 [==============================] - 5s 423ms/step - loss: 1.0101 - accuracy: 0.4759 - val_loss: 1.0077 - val_accuracy: 0.4773\n",
      "Epoch 3/6\n",
      "13/13 [==============================] - 6s 419ms/step - loss: 0.9459 - accuracy: 0.6142 - val_loss: 0.9683 - val_accuracy: 0.5682\n",
      "Epoch 4/6\n",
      "13/13 [==============================] - 6s 492ms/step - loss: 0.8253 - accuracy: 0.6840 - val_loss: 0.9034 - val_accuracy: 0.5795\n",
      "Epoch 5/6\n",
      "13/13 [==============================] - 6s 463ms/step - loss: 0.6873 - accuracy: 0.7195 - val_loss: 0.8550 - val_accuracy: 0.6250\n",
      "Epoch 6/6\n",
      "13/13 [==============================] - 6s 494ms/step - loss: 0.5410 - accuracy: 0.7602 - val_loss: 0.8336 - val_accuracy: 0.6477\n"
     ]
    }
   ],
   "source": [
    "epochs = 5\n",
    "batch_size = 64\n",
    "history = model.fit(X_train, Y_train, epochs=epochs, batch_size=batch_size,validation_split=0.1,\n",
    "                    callbacks=[EarlyStopping(monitor='val_loss', patience=3, min_delta=0.0001)])"
   ]
  },
  {
   "cell_type": "code",
   "execution_count": 28,
   "id": "79fbf3f1-d0a3-4add-b31c-d36d9e9bd2e8",
   "metadata": {},
   "outputs": [
    {
     "name": "stdout",
     "output_type": "stream",
     "text": [
      "7/7 [==============================] - 0s 49ms/step - loss: 0.8065 - accuracy: 0.6409\n",
      "Test set\n",
      "  Loss: 0.806\n",
      "  Accuracy: 0.641\n"
     ]
    }
   ],
   "source": [
    "accr = model.evaluate(X_test,Y_test)\n",
    "print('Test set\\n  Loss: {:0.3f}\\n  Accuracy: {:0.3f}'.format(accr[0],accr[1]))"
   ]
  },
  {
   "cell_type": "code",
   "execution_count": 29,
   "id": "8d1dc831-ce77-4c72-9545-d10bfb32911a",
   "metadata": {},
   "outputs": [
    {
     "data": {
      "image/png": "[encoded data removed]",
      "text/plain": [
       "<Figure size 640x480 with 1 Axes>"
      ]
     },
     "metadata": {},
     "output_type": "display_data"
    }
   ],
   "source": [
    "plt.title('Loss')\n",
    "plt.plot(history.history['loss'], label='train')\n",
    "plt.plot(history.history['val_loss'], label='test')\n",
    "plt.legend()\n",
    "plt.show()"
   ]
  },
  {
   "cell_type": "code",
   "execution_count": 30,
   "id": "99f1bc3e-b35d-454d-a792-e3a0bed0bbe6",
   "metadata": {},
   "outputs": [
    {
     "data": {
      "image/png": "[encoded data removed]",
      "text/plain": [
       "<Figure size 640x480 with 1 Axes>"
      ]
     },
     "metadata": {},
     "output_type": "display_data"
    }
   ],
   "source": [
    "plt.title('Accuracy')\n",
    "plt.plot(history.history['accuracy'], label='train')\n",
    "plt.plot(history.history['val_accuracy'], label='test')\n",
    "plt.legend()\n",
    "plt.show()"
   ]
  },
  {
   "cell_type": "code",
   "execution_count": 31,
   "id": "1f3d89d9-1244-4ddb-a6b2-6cb85db8ce53",
   "metadata": {},
   "outputs": [
    {
     "name": "stdout",
     "output_type": "stream",
     "text": [
      "7/7 [==============================] - 1s 62ms/step\n"
     ]
    }
   ],
   "source": [
    "y_pred = model.predict(X_test)\n",
    "y_pred = y_pred.argmax(axis = 1)\n",
    "Y_test = Y_test.argmax(axis = 1)"
   ]
  },
  {
   "cell_type": "code",
   "execution_count": 32,
   "id": "e0fc05e2-17a1-4c8c-9ace-61dfd8e79dc2",
   "metadata": {},
   "outputs": [
    {
     "data": {
      "text/plain": [
       "Text(0.5, 58.7222222222222, 'predict')"
      ]
     },
     "execution_count": 32,
     "metadata": {},
     "output_type": "execute_result"
    },
    {
     "data": {
      "image/png": "[encoded data removed]",
      "text/plain": [
       "<Figure size 1000x800 with 2 Axes>"
      ]
     },
     "metadata": {},
     "output_type": "display_data"
    }
   ],
   "source": [
    "conf_mat = confusion_matrix(Y_test, y_pred)\n",
    "fig, ax = plt.subplots(figsize=(10,8))\n",
    "sns.heatmap(conf_mat, annot=True, fmt='d',\n",
    "            xticklabels=sentimento_tweet_id_df.sentimento_tweet.values, yticklabels=sentimento_tweet_id_df.sentimento_tweet.values)\n",
    "plt.ylabel('labels',fontsize=18)\n",
    "plt.xlabel('predict',fontsize=18)"
   ]
  },
  {
   "cell_type": "code",
   "execution_count": 33,
   "id": "a0b01ba3-48e5-4445-b819-a0f3973bbad7",
   "metadata": {},
   "outputs": [
    {
     "name": "stdout",
     "output_type": "stream",
     "text": [
      "accuracy 0.6409090909090909\n",
      "              precision    recall  f1-score   support\n",
      "\n",
      "           0       0.71      0.80      0.75        86\n",
      "           1       0.59      0.77      0.66        94\n",
      "           2       0.00      0.00      0.00        40\n",
      "\n",
      "    accuracy                           0.64       220\n",
      "   macro avg       0.43      0.52      0.47       220\n",
      "weighted avg       0.53      0.64      0.58       220\n",
      "\n"
     ]
    },
    {
     "name": "stderr",
     "output_type": "stream",
     "text": [
      "/Users/zzz/Downloads/anaconda3/envs/bancobv_entrevista/lib/python3.8/site-packages/sklearn/metrics/_classification.py:1471: UndefinedMetricWarning: Precision and F-score are ill-defined and being set to 0.0 in labels with no predicted samples. Use `zero_division` parameter to control this behavior.\n",
      "  _warn_prf(average, modifier, msg_start, len(result))\n",
      "/Users/zzz/Downloads/anaconda3/envs/bancobv_entrevista/lib/python3.8/site-packages/sklearn/metrics/_classification.py:1471: UndefinedMetricWarning: Precision and F-score are ill-defined and being set to 0.0 in labels with no predicted samples. Use `zero_division` parameter to control this behavior.\n",
      "  _warn_prf(average, modifier, msg_start, len(result))\n",
      "/Users/zzz/Downloads/anaconda3/envs/bancobv_entrevista/lib/python3.8/site-packages/sklearn/metrics/_classification.py:1471: UndefinedMetricWarning: Precision and F-score are ill-defined and being set to 0.0 in labels with no predicted samples. Use `zero_division` parameter to control this behavior.\n",
      "  _warn_prf(average, modifier, msg_start, len(result))\n"
     ]
    }
   ],
   "source": [
    "print('accuracy %s' % accuracy_score(y_pred, Y_test))\n",
    "print(classification_report(Y_test, y_pred,target_names=sentimento_tweet_id_df['sentimento_tweet'].astype(str).values))"
   ]
  },
  {
   "cell_type": "code",
   "execution_count": 34,
   "id": "a71a609f-d2ca-4f45-a4cf-f5e074a2458c",
   "metadata": {},
   "outputs": [],
   "source": [
    "# save\n",
    "model.save('modelos/LSTM_64.keras')"
   ]
  },
  {
   "cell_type": "code",
   "execution_count": null,
   "id": "b5217b38-b5e1-4a17-b92e-724c79b2fe5d",
   "metadata": {},
   "outputs": [],
   "source": []
  },
  {
   "cell_type": "code",
   "execution_count": null,
   "id": "e23edb2c-38b6-4a4a-89d0-fd904f0a73a6",
   "metadata": {},
   "outputs": [],
   "source": []
  },
  {
   "cell_type": "code",
   "execution_count": null,
   "id": "7355bdc6-d490-4dc3-8bc9-8e0c221bb8c2",
   "metadata": {},
   "outputs": [],
   "source": []
  },
  {
   "cell_type": "code",
   "execution_count": null,
   "id": "33b0ea65-6402-4b1e-9c8d-5ca4f0559e52",
   "metadata": {},
   "outputs": [],
   "source": []
  },
  {
   "cell_type": "code",
   "execution_count": null,
   "id": "087a04ea-04ce-4aab-8fe4-8a90b8816342",
   "metadata": {},
   "outputs": [],
   "source": []
  },
  {
   "cell_type": "code",
   "execution_count": null,
   "id": "a6a03e9d-f8d2-48f5-99ad-e90be31bcda9",
   "metadata": {},
   "outputs": [],
   "source": []
  },
  {
   "cell_type": "code",
   "execution_count": null,
   "id": "0709359a-a7c6-47b2-a8a3-80a9c04dbf75",
   "metadata": {},
   "outputs": [],
   "source": []
  },
  {
   "cell_type": "code",
   "execution_count": null,
   "id": "e21ec97d-c295-40d6-97cd-f0d8d7eaab86",
   "metadata": {},
   "outputs": [],
   "source": []
  },
  {
   "cell_type": "code",
   "execution_count": null,
   "id": "ea20bb11-b708-4a48-99a9-0352d1c2cccc",
   "metadata": {},
   "outputs": [],
   "source": []
  },
  {
   "cell_type": "code",
   "execution_count": null,
   "id": "a95ba5dc-84a8-4f07-b985-c8a1a0caaf22",
   "metadata": {},
   "outputs": [],
   "source": []
  },
  {
   "cell_type": "code",
   "execution_count": null,
   "id": "6a9fd750-729f-40f3-a100-dcfb5ab84269",
   "metadata": {},
   "outputs": [],
   "source": []
  },
  {
   "cell_type": "code",
   "execution_count": null,
   "id": "2fad9650-7f9c-47ac-ba32-5a321cd0aeeb",
   "metadata": {},
   "outputs": [],
   "source": []
  },
  {
   "cell_type": "code",
   "execution_count": null,
   "id": "b98f89db-1d09-4c38-8251-b9475a47ed07",
   "metadata": {},
   "outputs": [],
   "source": []
  },
  {
   "cell_type": "code",
   "execution_count": null,
   "id": "54da2ea0-f802-452d-8e81-6fc5cb6aa7f3",
   "metadata": {},
   "outputs": [],
   "source": []
  },
  {
   "cell_type": "code",
   "execution_count": null,
   "id": "8c2fea42-32fd-47d7-992f-3cf1c0f9097d",
   "metadata": {},
   "outputs": [],
   "source": []
  },
  {
   "cell_type": "code",
   "execution_count": null,
   "id": "5e9499e5-5132-4b77-82f0-4a7c70a71e3a",
   "metadata": {},
   "outputs": [],
   "source": []
  },
  {
   "cell_type": "code",
   "execution_count": null,
   "id": "cdbcbfdf-9510-4805-9956-165ed7d19582",
   "metadata": {},
   "outputs": [],
   "source": []
  },
  {
   "cell_type": "code",
   "execution_count": null,
   "id": "e6986c99-653c-4f79-95bb-8f28e3656f4b",
   "metadata": {},
   "outputs": [],
   "source": []
  },
  {
   "cell_type": "code",
   "execution_count": null,
   "id": "764bff0b-3cbd-4f75-87c7-09d9fa54c10c",
   "metadata": {},
   "outputs": [],
   "source": []
  },
  {
   "cell_type": "code",
   "execution_count": null,
   "id": "ac306556-f07a-459d-b69f-e2b0a37469ea",
   "metadata": {},
   "outputs": [],
   "source": []
  },
  {
   "cell_type": "code",
   "execution_count": null,
   "id": "fd2e1c8c-99fa-414f-a7b7-afb114f7b64b",
   "metadata": {},
   "outputs": [],
   "source": []
  }
 ],
 "metadata": {
  "kernelspec": {
   "display_name": "Python 3 (ipykernel)",
   "language": "python",
   "name": "python3"
  },
  "language_info": {
   "codemirror_mode": {
    "name": "ipython",
    "version": 3
   },
   "file_extension": ".py",
   "mimetype": "text/x-python",
   "name": "python",
   "nbconvert_exporter": "python",
   "pygments_lexer": "ipython3",
   "version": "3.8.20"
  }
 },
 "nbformat": 4,
 "nbformat_minor": 5
}
