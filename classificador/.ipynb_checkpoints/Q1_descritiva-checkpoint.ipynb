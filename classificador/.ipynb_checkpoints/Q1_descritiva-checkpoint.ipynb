{
 "cells": [
  {
   "cell_type": "code",
   "execution_count": 63,
   "id": "ed6e1bb4-1f52-4e68-ab2d-b6d6251f78d0",
   "metadata": {},
   "outputs": [],
   "source": [
    "import pandas as pd"
   ]
  },
  {
   "cell_type": "code",
   "execution_count": 64,
   "id": "f6427413-2a24-47d9-bffe-544ef477b9bd",
   "metadata": {},
   "outputs": [],
   "source": [
    "from utils import utils"
   ]
  },
  {
   "cell_type": "code",
   "execution_count": 65,
   "id": "449bd665-ba0f-4b47-8428-50d0608c6c15",
   "metadata": {},
   "outputs": [],
   "source": [
    "# data"
   ]
  },
  {
   "cell_type": "code",
   "execution_count": 66,
   "id": "8acaafd4-087f-4b5a-8146-7fbdfc8929c4",
   "metadata": {},
   "outputs": [],
   "source": [
    "df = pd.read_csv('../dados/analise_de_sentimentos.csv')"
   ]
  },
  {
   "cell_type": "code",
   "execution_count": 67,
   "id": "a65fa434-0496-4e8f-8ab0-90dabc9dc8b4",
   "metadata": {},
   "outputs": [],
   "source": [
    "df['texto_tweet_clean'] = [utils.clean_tweet(x) for x in df['texto_tweet']]"
   ]
  },
  {
   "cell_type": "code",
   "execution_count": 68,
   "id": "af0342ba-0abe-40d3-a4f3-0310c900648a",
   "metadata": {
    "scrolled": true
   },
   "outputs": [
    {
     "data": {
      "text/html": [
       "<div>\n",
       "<style scoped>\n",
       "    .dataframe tbody tr th:only-of-type {\n",
       "        vertical-align: middle;\n",
       "    }\n",
       "\n",
       "    .dataframe tbody tr th {\n",
       "        vertical-align: top;\n",
       "    }\n",
       "\n",
       "    .dataframe thead th {\n",
       "        text-align: right;\n",
       "    }\n",
       "</style>\n",
       "<table border=\"1\" class=\"dataframe\">\n",
       "  <thead>\n",
       "    <tr style=\"text-align: right;\">\n",
       "      <th></th>\n",
       "      <th>id</th>\n",
       "      <th>texto_tweet</th>\n",
       "      <th>idioma_tweet</th>\n",
       "      <th>sentimento_tweet</th>\n",
       "      <th>texto_tweet_clean</th>\n",
       "    </tr>\n",
       "  </thead>\n",
       "  <tbody>\n",
       "    <tr>\n",
       "      <th>0</th>\n",
       "      <td>595e60b48fcd022a715f7b7b</td>\n",
       "      <td>this @airfrance b777-300er has the oldest ifes...</td>\n",
       "      <td>en</td>\n",
       "      <td>0</td>\n",
       "      <td>ber oldest ifes ive ever seen belongs museum t...</td>\n",
       "    </tr>\n",
       "    <tr>\n",
       "      <th>1</th>\n",
       "      <td>595e60de8fcd022a715f7b7d</td>\n",
       "      <td>???? will miss my connection @airfrance https:...</td>\n",
       "      <td>en</td>\n",
       "      <td>0</td>\n",
       "      <td>miss connection</td>\n",
       "    </tr>\n",
       "    <tr>\n",
       "      <th>2</th>\n",
       "      <td>595e61448fcd022a715f7b7f</td>\n",
       "      <td>@airfrance lost luggage in overhead cabin, ema...</td>\n",
       "      <td>en</td>\n",
       "      <td>0</td>\n",
       "      <td>lost luggage overhead cabin email response pho...</td>\n",
       "    </tr>\n",
       "    <tr>\n",
       "      <th>3</th>\n",
       "      <td>595e62748fcd022a715f7b83</td>\n",
       "      <td>here's a new twist on the \"\"all airlines hate ...</td>\n",
       "      <td>en</td>\n",
       "      <td>0</td>\n",
       "      <td>heres new twist airlines hate musicians saga s...</td>\n",
       "    </tr>\n",
       "    <tr>\n",
       "      <th>4</th>\n",
       "      <td>595e62b28fcd022a715f7b86</td>\n",
       "      <td>@airfrance so now i might not have 3 pieces of...</td>\n",
       "      <td>en</td>\n",
       "      <td>0</td>\n",
       "      <td>might pieces important gear important dublin s...</td>\n",
       "    </tr>\n",
       "  </tbody>\n",
       "</table>\n",
       "</div>"
      ],
      "text/plain": [
       "                         id  \\\n",
       "0  595e60b48fcd022a715f7b7b   \n",
       "1  595e60de8fcd022a715f7b7d   \n",
       "2  595e61448fcd022a715f7b7f   \n",
       "3  595e62748fcd022a715f7b83   \n",
       "4  595e62b28fcd022a715f7b86   \n",
       "\n",
       "                                         texto_tweet idioma_tweet  \\\n",
       "0  this @airfrance b777-300er has the oldest ifes...           en   \n",
       "1  ???? will miss my connection @airfrance https:...           en   \n",
       "2  @airfrance lost luggage in overhead cabin, ema...           en   \n",
       "3  here's a new twist on the \"\"all airlines hate ...           en   \n",
       "4  @airfrance so now i might not have 3 pieces of...           en   \n",
       "\n",
       "   sentimento_tweet                                  texto_tweet_clean  \n",
       "0                 0  ber oldest ifes ive ever seen belongs museum t...  \n",
       "1                 0                                    miss connection  \n",
       "2                 0  lost luggage overhead cabin email response pho...  \n",
       "3                 0  heres new twist airlines hate musicians saga s...  \n",
       "4                 0  might pieces important gear important dublin s...  "
      ]
     },
     "execution_count": 68,
     "metadata": {},
     "output_type": "execute_result"
    }
   ],
   "source": [
    "df.head()"
   ]
  },
  {
   "cell_type": "code",
   "execution_count": 70,
   "id": "3a1f82f9-78e9-46f4-b6b1-01c7bd685d58",
   "metadata": {},
   "outputs": [
    {
     "data": {
      "text/plain": [
       "'???? will miss my connection @airfrance https://t.co/2olmtwcxyk'"
      ]
     },
     "execution_count": 70,
     "metadata": {},
     "output_type": "execute_result"
    }
   ],
   "source": [
    "df.iloc[1]['texto_tweet']"
   ]
  },
  {
   "cell_type": "code",
   "execution_count": 72,
   "id": "f3ae1cb2-78cc-4a56-acad-bacf368bab9f",
   "metadata": {},
   "outputs": [
    {
     "data": {
      "text/plain": [
       "'miss connection'"
      ]
     },
     "execution_count": 72,
     "metadata": {},
     "output_type": "execute_result"
    }
   ],
   "source": [
    "df.iloc[1]['texto_tweet_clean']"
   ]
  },
  {
   "cell_type": "code",
   "execution_count": null,
   "id": "03362ef1-493b-4329-8e1c-71c278c5e1f2",
   "metadata": {},
   "outputs": [],
   "source": []
  },
  {
   "cell_type": "code",
   "execution_count": 75,
   "id": "ff56696b-5ec8-4c38-9c55-30dedf5775ae",
   "metadata": {},
   "outputs": [
    {
     "data": {
      "text/plain": [
       "sentimento_tweet\n",
       "0    405\n",
       "1    502\n",
       "2    189\n",
       "Name: id, dtype: int64"
      ]
     },
     "execution_count": 75,
     "metadata": {},
     "output_type": "execute_result"
    }
   ],
   "source": [
    "df.groupby('sentimento_tweet')['id'].count()"
   ]
  },
  {
   "cell_type": "code",
   "execution_count": null,
   "id": "fec9ce38-f6e1-4e41-9df0-d7c367db9fec",
   "metadata": {},
   "outputs": [],
   "source": []
  },
  {
   "cell_type": "code",
   "execution_count": null,
   "id": "8910cb37-1bc2-4b1a-93c4-61369d3a9614",
   "metadata": {},
   "outputs": [],
   "source": []
  },
  {
   "cell_type": "code",
   "execution_count": null,
   "id": "ebffa1e7-24a2-43d4-ba90-1d68dc38394e",
   "metadata": {},
   "outputs": [],
   "source": []
  },
  {
   "cell_type": "code",
   "execution_count": null,
   "id": "bfe234ba-2b8e-431e-920b-a72cd4579add",
   "metadata": {},
   "outputs": [],
   "source": []
  },
  {
   "cell_type": "code",
   "execution_count": null,
   "id": "d23a5f02-46fe-409b-9b94-f9f79fde15d0",
   "metadata": {},
   "outputs": [],
   "source": []
  },
  {
   "cell_type": "code",
   "execution_count": null,
   "id": "ff45bf1c-e5f1-4bb1-9fc1-80177f7809ba",
   "metadata": {},
   "outputs": [],
   "source": []
  }
 ],
 "metadata": {
  "kernelspec": {
   "display_name": "Python 3 (ipykernel)",
   "language": "python",
   "name": "python3"
  },
  "language_info": {
   "codemirror_mode": {
    "name": "ipython",
    "version": 3
   },
   "file_extension": ".py",
   "mimetype": "text/x-python",
   "name": "python",
   "nbconvert_exporter": "python",
   "pygments_lexer": "ipython3",
   "version": "3.8.20"
  }
 },
 "nbformat": 4,
 "nbformat_minor": 5
}
